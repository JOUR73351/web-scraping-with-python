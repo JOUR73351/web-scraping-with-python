{
 "cells": [
  {
   "cell_type": "markdown",
   "metadata": {},
   "source": [
    "# Web scraping with Python"
   ]
  },
  {
   "cell_type": "markdown",
   "metadata": {},
   "source": [
    "## HTML basics\n",
    "\n",
    "### What _is_ a web page, anyway?\n",
    "\n",
    "Generally, a web page consists of specifically formatted text files. Here are a few common types:\n",
    "\n",
    "- `.html` (HyperText Markup Language) files give structure to a page\n",
    "- `.css` (Cascading Style Sheet) files determine how the page looks\n",
    "- `.js` (JavaScript) files add interactivity\n",
    "\n",
    "Today, we'll focus on the HTML, which gives structure to the page.\n",
    "\n",
    "Most HTML elements are represented by a pair of tags -- an opening tag and a closing tag.\n",
    "\n",
    "A table, for example, starts with `<table>` and ends with `</table>`. The first tag tells the browser: \"Hey! I got a table here! Render it as a table.\" The closing tag (note the forward slash!) tells the browser: \"Hey! I'm all done with that table, thanks.\" Inside the table are nested more HTML tags representing rows (`<tr>`) and cells (`<td>`).\n",
    "\n",
    "\n",
    "```html\n",
    "<table id=\"example-table\" class=\"striped-table\" style=\"width: 95%\">\n",
    "    <tr> <!-- Header -->\n",
    "        <td>Column A</td>\n",
    "        <td>Column B</td>\n",
    "        <td>Column C</td>\n",
    "    </tr>\n",
    "    <tr> <!-- Row 1 --->\n",
    "        <td>Row 1, Column A</td>\n",
    "        <td>Row 1, Column B</td>\n",
    "        <td>Row 1, Column C</td>\n",
    "    </tr>\n",
    "    <tr> <!-- Row 2 --->\n",
    "        <td>Row 2, Column A</td>\n",
    "        <td>Row 2, Column B</td>\n",
    "        <td>Row 2, Column C</td>\n",
    "    </tr>\n",
    "</table>\n",
    "```\n",
    "\n",
    "HTML elements can have any number of attributes, such as IDs, which uniquely identify elements --\n",
    "\n",
    "```html\n",
    "<table id=\"example-table\">\n",
    "```\n",
    "\n",
    "-- classes, which identify a type of element --\n",
    "\n",
    "```html\n",
    "<table class=\"striped-table\">\n",
    "```\n",
    "\n",
    "-- and styles, which define how specific elements appear --\n",
    "\n",
    "```html\n",
    "<table style=\"width:95%;\">\n",
    "```\n",
    "\n",
    "-- that will be useful to know about when we're scraping. "
   ]
  },
  {
   "cell_type": "markdown",
   "metadata": {},
   "source": [
    "### Inspecting HTML in your browser\n",
    "\n",
    "You can look at the HTML that makes up a web page by _inspecting the source_ in a web browser. We like Chrome and Firefox for this; today, we'll use Chrome.\n",
    "\n",
    "#### Inspect element\n",
    "\n",
    "You can inspect specific elements on the page by right-clicking on the page and selecting \"Inspect\" or \"Inspect Element\" from the context menu that pops up. Hover over elements in the \"Elements\" tab to highlight them on the page. This can be helpful when you're trying to figure how to uniquely identify the element you want to scrape."
   ]
  },
  {
   "cell_type": "markdown",
   "metadata": {},
   "source": [
    "#### View page source\n",
    "\n",
    "To examine all of the source code that makes up a page, you can \"view source.\" In Chrome, right click anywhere in your browser window, then click \"View Page Source.\"\n",
    "\n",
    "This will open a new tab showing you all of the HTML code that makes up that page. Ignore 99% of it and try to locate the element(s) that you want to target (use `Ctrl+F` on a PC and `⌘+F` to find)."
   ]
  },
  {
   "cell_type": "markdown",
   "metadata": {},
   "source": [
    "### Practice\n",
    "\n",
    "Let's give our new skills a whirl. Open up a Chrome browser and navigate to [the first page of Maryland's list of WARN letters](https://www.dllr.state.md.us/employment/warn.shtml). Your goal is to isolate the table element on the page.\n",
    "\n",
    "There are many ways to grab content from HTML, and every page you scrape data from will require a slightly different trick. At this stage, your job is to find a pattern or identifier in the code for the element you’d like to extract, which we will then give as instructions to our Python code.\n",
    "\n",
    "Inspect the table element or view the page source. How would you pick the table element out from the all of the elements that make up the page? Is it the only table? If not, does it have any attributes, like a class or ID, that would allow you to target it?"
   ]
  },
  {
   "cell_type": "markdown",
   "metadata": {},
   "source": [
    "## Web Scraping with Python\n",
    "\n",
    "The remainder of this notebook demonstrates how you can use the Python programming language to scrape information from a web page. The goal today: Scrape the main table on [the first page of Maryland's list of WARN letters](https://www.dllr.state.md.us/employment/warn.shtml) and, if time, write the data to a CSV that you can open with Excel."
   ]
  },
  {
   "cell_type": "markdown",
   "metadata": {},
   "source": [
    "### Import libraries\n",
    "\n",
    "As we learned in the first section, Python provides some broadly useful objects, like strings and lists, and functions, like `type()` and `print()`, by default. For more specialized operations, like making web requests and parsing HTML, we need to import a few modules, from which we can access helpful objects and functions.\n",
    "\n",
    "Today, we'll use two third-party Python libraries to help us scrape:\n",
    "- `requests` is the de facto standard for making HTTP requests, similar to what happens when you type a URL into a browser window and hit enter.\n",
    "- `bs4`, or BeautifulSoup, is a popular library for parsing HTML into a data structure that Python can work with.\n",
    "\n",
    "**Note:** These libraries are installed separately from Python on a per-project basis. They're already in your working environment for this tutorial. If you want to revisit this tutorial on your own computer, or if you want to create a scraping project of your own, you can ([read more about IRE's recommendations for setting up Python projects here](https://docs.google.com/document/d/1cYmpfZEZ8r-09Q6Go917cKVcQk_d0P61gm0q8DAdIdg/edit#heading=h.od2v1nkge5t1))."
   ]
  },
  {
   "cell_type": "markdown",
   "metadata": {},
   "source": [
    "Use the `import` keyword to import the `requests` and `bs4` modules."
   ]
  },
  {
   "cell_type": "code",
   "execution_count": 2,
   "metadata": {},
   "outputs": [],
   "source": [
    "import requests\n",
    "import bs4\n",
    "import pandas"
   ]
  },
  {
   "cell_type": "markdown",
   "metadata": {},
   "source": [
    "Remember, you can use the `dir()` function to inspect the objects and methods included with a module, and the `help()` function to read more about a particular object or method."
   ]
  },
  {
   "cell_type": "code",
   "execution_count": 3,
   "metadata": {},
   "outputs": [
    {
     "data": {
      "text/plain": [
       "['ConnectTimeout',\n",
       " 'ConnectionError',\n",
       " 'DependencyWarning',\n",
       " 'FileModeWarning',\n",
       " 'HTTPError',\n",
       " 'NullHandler',\n",
       " 'PreparedRequest',\n",
       " 'ReadTimeout',\n",
       " 'Request',\n",
       " 'RequestException',\n",
       " 'RequestsDependencyWarning',\n",
       " 'Response',\n",
       " 'Session',\n",
       " 'Timeout',\n",
       " 'TooManyRedirects',\n",
       " 'URLRequired',\n",
       " '__author__',\n",
       " '__author_email__',\n",
       " '__build__',\n",
       " '__builtins__',\n",
       " '__cached__',\n",
       " '__cake__',\n",
       " '__copyright__',\n",
       " '__description__',\n",
       " '__doc__',\n",
       " '__file__',\n",
       " '__license__',\n",
       " '__loader__',\n",
       " '__name__',\n",
       " '__package__',\n",
       " '__path__',\n",
       " '__spec__',\n",
       " '__title__',\n",
       " '__url__',\n",
       " '__version__',\n",
       " '_check_cryptography',\n",
       " '_internal_utils',\n",
       " 'adapters',\n",
       " 'api',\n",
       " 'auth',\n",
       " 'certs',\n",
       " 'chardet',\n",
       " 'check_compatibility',\n",
       " 'codes',\n",
       " 'compat',\n",
       " 'cookies',\n",
       " 'delete',\n",
       " 'exceptions',\n",
       " 'get',\n",
       " 'head',\n",
       " 'hooks',\n",
       " 'logging',\n",
       " 'models',\n",
       " 'options',\n",
       " 'packages',\n",
       " 'patch',\n",
       " 'post',\n",
       " 'put',\n",
       " 'request',\n",
       " 'session',\n",
       " 'sessions',\n",
       " 'status_codes',\n",
       " 'structures',\n",
       " 'urllib3',\n",
       " 'utils',\n",
       " 'warnings']"
      ]
     },
     "execution_count": 3,
     "metadata": {},
     "output_type": "execute_result"
    }
   ],
   "source": [
    "dir(requests)"
   ]
  },
  {
   "cell_type": "markdown",
   "metadata": {},
   "source": [
    "### Request the page\n",
    "\n",
    "Next, we'll use the `get()` method of the `requests` library (which we just imported) to grab the web page."
   ]
  },
  {
   "cell_type": "markdown",
   "metadata": {},
   "source": [
    "Use the `help()` function to learn more about `requests.get`.\n",
    "\n",
    "**Note**: Some third-party libraries come with more documentation than others, however popular ones (such as `requests`) tend to be just as, if not more, helpful than the standard Python library!"
   ]
  },
  {
   "cell_type": "code",
   "execution_count": 9,
   "metadata": {},
   "outputs": [
    {
     "name": "stdout",
     "output_type": "stream",
     "text": [
      "Help on function get in module requests.api:\n",
      "\n",
      "get(url, params=None, **kwargs)\n",
      "    Sends a GET request.\n",
      "    \n",
      "    :param url: URL for the new :class:`Request` object.\n",
      "    :param params: (optional) Dictionary, list of tuples or bytes to send\n",
      "        in the query string for the :class:`Request`.\n",
      "    :param \\*\\*kwargs: Optional arguments that ``request`` takes.\n",
      "    :return: :class:`Response <Response>` object\n",
      "    :rtype: requests.Response\n",
      "\n"
     ]
    }
   ],
   "source": [
    "help(requests.get)"
   ]
  },
  {
   "cell_type": "markdown",
   "metadata": {},
   "source": [
    "First, we'll define a variable `URL` as a string containing the web address we want to scrape."
   ]
  },
  {
   "cell_type": "code",
   "execution_count": 5,
   "metadata": {},
   "outputs": [],
   "source": [
    "URL = 'http://www.dllr.state.md.us/employment/warn.shtml'"
   ]
  },
  {
   "cell_type": "markdown",
   "metadata": {},
   "source": [
    "Next, we'll use `requests.get` to retrieve the URL. Remember that you can can assign the output of an expression to a variable, so we'll store the response as a new variable. The variable name is arbitrary, but it's a great idea to use something that describes the value it's pointing to."
   ]
  },
  {
   "cell_type": "code",
   "execution_count": 14,
   "metadata": {},
   "outputs": [
    {
     "data": {
      "text/plain": [
       "<Response [200]>"
      ]
     },
     "execution_count": 14,
     "metadata": {},
     "output_type": "execute_result"
    }
   ],
   "source": [
    "warn_page = requests.get(URL)\n",
    "warn_page"
   ]
  },
  {
   "cell_type": "markdown",
   "metadata": {},
   "source": [
    "If you want to make sure that your request was successful, you can check the `status_code` attribute of the Python object that was returned:"
   ]
  },
  {
   "cell_type": "code",
   "execution_count": 7,
   "metadata": {},
   "outputs": [
    {
     "data": {
      "text/plain": [
       "200"
      ]
     },
     "execution_count": 7,
     "metadata": {},
     "output_type": "execute_result"
    }
   ],
   "source": [
    "warn_page.status_code"
   ]
  },
  {
   "cell_type": "markdown",
   "metadata": {},
   "source": [
    "A `200` code means all is well. `404` means the page wasn't found, etc. [Here's one of our favorite lists of HTTP status codes](https://http.cat/) ([or here, if you prefer dogs](https://httpstatusdogs.com/)).\n",
    "\n",
    "The object being stored as the `warn_page` variable came back with a lot of potentially useful information we could access. Use the `dir()` method to see all the attributes."
   ]
  },
  {
   "cell_type": "code",
   "execution_count": 10,
   "metadata": {},
   "outputs": [
    {
     "data": {
      "text/plain": [
       "['__attrs__',\n",
       " '__bool__',\n",
       " '__class__',\n",
       " '__delattr__',\n",
       " '__dict__',\n",
       " '__dir__',\n",
       " '__doc__',\n",
       " '__enter__',\n",
       " '__eq__',\n",
       " '__exit__',\n",
       " '__format__',\n",
       " '__ge__',\n",
       " '__getattribute__',\n",
       " '__getstate__',\n",
       " '__gt__',\n",
       " '__hash__',\n",
       " '__init__',\n",
       " '__init_subclass__',\n",
       " '__iter__',\n",
       " '__le__',\n",
       " '__lt__',\n",
       " '__module__',\n",
       " '__ne__',\n",
       " '__new__',\n",
       " '__nonzero__',\n",
       " '__reduce__',\n",
       " '__reduce_ex__',\n",
       " '__repr__',\n",
       " '__setattr__',\n",
       " '__setstate__',\n",
       " '__sizeof__',\n",
       " '__str__',\n",
       " '__subclasshook__',\n",
       " '__weakref__',\n",
       " '_content',\n",
       " '_content_consumed',\n",
       " '_next',\n",
       " 'apparent_encoding',\n",
       " 'close',\n",
       " 'connection',\n",
       " 'content',\n",
       " 'cookies',\n",
       " 'elapsed',\n",
       " 'encoding',\n",
       " 'headers',\n",
       " 'history',\n",
       " 'is_permanent_redirect',\n",
       " 'is_redirect',\n",
       " 'iter_content',\n",
       " 'iter_lines',\n",
       " 'json',\n",
       " 'links',\n",
       " 'next',\n",
       " 'ok',\n",
       " 'raise_for_status',\n",
       " 'raw',\n",
       " 'reason',\n",
       " 'request',\n",
       " 'status_code',\n",
       " 'text',\n",
       " 'url']"
      ]
     },
     "execution_count": 10,
     "metadata": {},
     "output_type": "execute_result"
    }
   ],
   "source": [
    "dir(warn_page)"
   ]
  },
  {
   "cell_type": "markdown",
   "metadata": {},
   "source": [
    "Today, we're mostly interested in the `.text` attribute -- the HTML that makes up the web page, same as if we'd viewed the page source. Let's take a look:"
   ]
  },
  {
   "cell_type": "code",
   "execution_count": 12,
   "metadata": {},
   "outputs": [
    {
     "data": {
      "text/plain": [
       "'ï»¿<!DOCTYPE html>\\r\\n<html lang=\"en\">\\r\\n<head>\\r\\n    <meta charset=\"utf-8\">\\r\\n    <title>Work Adjustment and Retraining Notification (WARN) Log Year 2020 - Division of Workforce Development and Adult Learning</title>\\r\\n    <meta name=\"viewport\" content=\"width=device-width, initial-scale=1.0, maximum-scale=1.0\" />\\r\\n    <meta name=\"description\" content=\"\">\\r\\n    <meta name=\"author\" content=\"\">\\r\\n    <!-- Step 1 : Link to MD favicon -->\\r\\n    <link rel=\"shortcut icon\" href=\"../egov/img/icons/favicon.ico\">\\r\\n    <!-- Necessary Bootstrap.css for responsive design -->\\r\\n    <link href=\"../egov/frameworks/bootstrap/css/bootstrap.min.css\" rel=\"stylesheet\">\\r\\n    <link href=\"../egov/css/agency-styles.css\" rel=\"stylesheet\">\\r\\n    <link href=\"../egov/css/dllrstyle.css\" rel=\"stylesheet\" type=\"text/css\">\\r\\n    <link href=\"../egov/css/agency-header.css\" rel=\"stylesheet\">\\r\\n    <!--[if ie 8]>\\r\\n        <link id=\"css_IE8\" href=\"../egov/css/ie/ie8.css\" rel=\"stylesheet\" media=\"screen\" />\\r\\n    <![endif]-->\\r\\n    <!--[if ie 7]>\\r\\n        <link id=\"css_IE7\" href=\"../egov/css/ie/ie7.css\" rel=\"stylesheet\" media=\"screen\" />\\r\\n    <![endif]-->\\r\\n    <!--[if lt IE 9]>\\r\\n        <script src=\"../egov/js/html5shiv.js\"></script>\\r\\n    <![endif]-->\\r\\n\\r\\n    <script src=\"../egov/js/jquery-1.8.2.min.js\"></script>\\r\\n   \\t<link rel=\"stylesheet\" href=\"../egov/css/jquery-ui-1.10.3.min.css\" />\\r\\n    <script src=\"../egov/js/jquery-ui-1.10.3.min.js\"></script>\\r\\n    \\r\\n     <!--Step 4 : Necessary .js for  Statewide nav bar script -->\\r\\n\\t<script type=\"text/javascript\" src=\"../mdgovagency/egov/js/yui-min.js\"></script>\\r\\n\\t<script type=\"text/javascript\">\\r\\n\\t$(document).ready(function() {\\r\\n    $(\"#accordion\").accordion({ active: false, autoHeight: false, collapsible: true, navigation: true, heightStyle: \"content\" });\\r\\n  });\\r\\n</script>    \\r\\n    \\r\\n</head>\\r\\n\\r\\n          <div class=\"container\" id=\"MobileNav\">\\r\\n        <div class=\"skipNav\">\\r\\n            <a href=\"#primary_content_Block\">Skip to Main Content</a>\\r\\n        </div>\\r\\n        <div id=\"mdgov_globalSiteWrapper\">\\r\\n            <div class=\"row-fluid\">\\r\\n                <div id=\"mdgov_TopSliverBar\" class=\"clearfix\">\\r\\n                    <div id=\"mdgov_TopSliverBarContent\" class=\"clearfix\">\\r\\n                        <div id=\"mdgov_sliverLeft\">\\r\\n                            <div id=\"mdgov_mobileNavButton\" class=\"hidden-desktop\">\\r\\n\\t\\t\\t\\t\\t\\t\\t\\t<a class=\"show\" href=\"#/\"><i class=\"icon-white icon-align-justify\">&nbsp;</i> <span>Menu</span> </a>\\r\\n                                <a class=\"hide\" href=\"#MobileNav\"><i class=\"icon-white icon-align-justify\">&nbsp;</i> <span>Menu</span> </a>\\r\\n                            </div>\\r\\n                        </div>\\r\\n                        <div id=\"mdgov_sliverRight\">\\r\\n                            <!-- STEP 4: displays statewide nav bar -->\\r\\n                            <script type=\"text/javascript\">\\r\\n                                YUI().use(function (Y) {\\r\\n                                    var url = \"https://www.maryland.gov/branding/statewideNavigationDefer2017.js\",\\r\\n                                    obj = Y.Get.script(url, {\\r\\n                                        onSuccess: function () {\\r\\n                                            document.getElementById(\\'mdgov_sliverRight\\').innerHTML = showStatewideNavigationWithTranslate(\"white\");\\r\\n                                        }\\r\\n                                    });\\r\\n                                });\\r\\n                            </script>\\r\\n                            <noscript>You must have Javascript enabled to see this menu.</noscript>\\r\\n                            <!-- END statewide nav bar -->\\r\\n                        </div>\\r\\n                    </div>\\r\\n                </div>\\r\\n            </div>\\r\\n            <script type=\"text/javascript\" src=\"../scripts/Print.js\"></script>\\r\\n            <!-- Begin Header -->\\r\\n            <div id=\"headerBlock\" class=\"row-fluid\">\\r\\n                <div id=\"header\" class=\"span12\">\\r\\n                    <div id=\"headerBackground\">\\r\\n                        <div class=\"headerBgImg clearfix\">\\r\\n                            <div class=\"row-fluid\">\\r\\n                                <div id=\"agency_branding\" class=\"clearfix\">\\r\\n                                    <div id=\"mdgov_crownLogo\" class=\"span2 clearfix\">\\r\\n                                        <div id=\"mdgov_homeLink\">\\r\\n                                            <!-- Step 2 : MD Crown logo and link -->\\r\\n                                            <a href=\"http://www.maryland.gov/\">\\r\\n                                                <span class=\"hidden-accessible\">Maryland.gov Home</span>\\r\\n                                            </a>\\r\\n                                        </div>\\r\\n                                    </div>\\r\\n                                    <div id=\"mdgov_agencyName\" class=\"span6 clearfix\">\\r\\n                                        <div id=\"mdgov_agencyTitle\">\\r\\n                                            <!-- Step 3 : Add Agency Title and link to home page -->\\r\\n                                            <a href=\"#\">\\r\\n                                                <img src=\"../images/dllregovwhitetitle.png\" alt=\"Maryland Department of Labor\" />\\r\\n                                            </a>\\r\\n                                        </div>\\r\\n                                    </div>\\r\\n                                    <div id=\"mdgov_agencyHeader\" class=\"span4 clearfix\">\\r\\n                                        <div id=\"mdgov_enterpriseSearch\" class=\"clearfix\">\\r\\n                                            <div id=\"mdgov_enterpriseSearchContainer\">\\r\\n                                                <div id=\"mdgov_searchInput\">\\r\\n                                                    <!-- Step 7 : statewide search code -->\\r\\n                                        <form method=\"GET\" action=\"http://www.maryland.gov/pages/search.aspx\">\\r\\n                                            <input type=\"hidden\" name=\"name\" value=\"Labor Licensing and Regulation\" />\\r\\n                                            <input type=\"hidden\" name=\"site\" value=\"mog-vnwn994\" />\\r\\n                                            <label for=\"searchInputBox\" class=\"hidden-accessible\">Search</label>\\r\\n                                            <input type=\"text\" id=\"searchInputBox\" name=\"q\" class=\"mdgov_searchInputBox\"\\r\\n                                                value=\"Search\" onblur=\"if(this.value==\\'\\')this.value=\\'Search\\';\"\\r\\n                                                onfocus=\"if(this.value==\\'Search\\')this.value=\\'\\';\" />\\r\\n                                            <div class=\"mdgov_searchButton btn btn-primary searchButtonDiv\">\\r\\n                                                <input type=\"image\" alt=\"Search\" src=\"../egov/img/icons/search.png\" class=\"fillImageButton\" />\\r\\n                                            </div>\\r\\n                                        </form>\\r\\n                                                </div>\\r\\n                                            </div>\\r\\n                                        </div>\\r\\n                                        <div class=\"mdgov_socialNav clearfix\">\\r\\n                                            <!-- Step 6: Configure Agency social media icons and links -->\\r\\n                                            <ul class=\"cl_base_hNav cl_socialNav\">\\r\\n                                            <li><a href=\"https://www.facebook.com/MarylandLabor\" class=\"sm-facebook\" title=\"Facebook\">Facebook</a> </li>\\r\\n                                            <li><a href=\"https://twitter.com/@MD_Labor/\" class=\"sm-twitter\" title=\"Twitter\">Twitter</a> </li>\\r\\n                                            <!--<li><a href=\"#\" class=\"sm-googleplus\" title=\"Google+\">Google Plus</a></li>-->\\r\\n                                            <li><a href=\"http://www.youtube.com/playlist?list=PLAF971858A68E4949\" class=\"sm-youtube\" title=\"YouTube\">YouTube</a> </li>\\r\\n                                            <!--<li><a href=\"#/\" class=\"sm-flickr\" title=\"Flickr\">Flickr</a> </li>-->\\r\\n                                            <li><a href=\"http://www.maryland.gov/pages/social_media.aspx\" class=\"sm-all\" title=\"MD Social Media Directory\">Social Media \\t\\t\\t\\t\\t\\t\\t\\t\\t\\t\\t\\t\\t\\tDirectory</a> </li>\\r\\n                                            </ul>\\r\\n                                            <!--if no Agency social media,replace above UL with code below-->\\r\\n                                            <!--<ul class=\"cl_base_hNav cl_socialNavDirectory\">\\r\\n                            \\t\\t\\t        <li><a href=\"http://www.maryland.gov/pages/social_media.aspx\" class=\"sm-directory\" title=\"MD Social Media Directory\">MD Social Media Directory</a></li>\\r\\n                        \\t\\t\\t\\t    </ul>-->\\r\\n                                        </div>\\r\\n                                    </div>\\r\\n                                </div>\\r\\n                            </div>\\r\\n                        </div>\\r\\n                    </div>\\r\\n                </div>\\r\\n            </div>\\r\\n            <!-- End Header -->\\r\\n            <div id=\"navBlock\" class=\"row-fluid\">\\r\\n                <div id=\"mdgov_enterpriseNavigation\" class=\"clearfix\">\\r\\n                    <!-- Step 9 : Add Main navigation links -->\\r\\n                    <nav>\\r\\n    \\t\\t\\t\\t    <ul>\\r\\n                            <li><a href=\"../\" class=\"level0\">home</a></li>\\r\\n                   \\t\\t \\t<li><a href=\"../employment/unemployment.shtml\" class=\"level0\">unemployment</a></li>\\r\\n                    \\t\\t<li><a href=\"../license/\" class=\"level0\">licensing</a></li>\\r\\n                    \\t\\t<li><a href=\"../employment/\" class=\"level0\">jobs</a></li>\\r\\n                    \\t\\t<li><a href=\"../labor/\" class=\"level0\">labor</a></li>\\r\\n                            <li><a href=\"../finance/\" class=\"level0\">financial</a></li>                    \\t\\t\\r\\n                            <li><a href=\"../racing/\" class=\"level0\">racing</a></li>                    \\t\\t\\r\\n                            <li><a href=\"../aboutdllr/\" class=\"level0\">about us</a></li>                            \\r\\n                        </ul>                \\r\\n                    </nav>\\r\\n                </div>\\r\\n            </div>\\r\\n            <noscript>\\r\\n            <div class=\"row-fluid\">\\r\\n                <div class=\"uiMessage\">\\r\\n                    <strong>Notice:</strong> JavaScript is not available in your browser. Some enhanced features will not be available until JavaScript is enabled.\\r\\n                </div>\\r\\n            </div>\\r\\n            </noscript>\\r\\n\\r\\n            <div class=\"row-fluid\">\\r\\n                <div id=\"primary_content_Block\">\\r\\n      \\t\\t\\t\\t\\t\\t                    <div id=\"primary_left_col\" class=\"span3 leftMargin0\">\\r\\n                        <div class=\"mdgov_contentWrapper mdgov_subNav\">\\r\\n\\t\\t\\t\\t\\t\\t\\t\\t\\t                            <section id=\"subNav1\" class=\"primary_left_col_list\">\\r\\n                                <!-- Step 14: Sub Nav menus -->\\r\\n                                <header>\\r\\n                                    <h2 data-target=\"subNav1\">WDAL Services</h2>\\r\\n                                </header>\\r\\n                                <div class=\"subNavWrapper\">\\r\\n                                    <ul class=\"cl_iconNav\">\\r\\n                                        <li><a href=\"../employment/#es\"><span lang=\"es\">Informaci&oacute;n en espa&ntilde;ol</span></a></li>\\r\\n                                        <li><a href=\"../county/\">Find an American Job Center (AJC) Near You</a></li>\\r\\n                                        <li><a href=\"../employment/jobserv.shtml\">Overview</a></li>\\r\\n                                        <li><a href=\"../employment/jobseekers.shtml\">Job Seeker Services</a></li>\\r\\n                                        <li><a href=\"../employment/dislocatedworker.shtml\">Dislocated Worker Information</a></li>\\r\\n                                        <li><a href=\"../employment/veteranservices.shtml\">Veterans Services</a></li>\\r\\n                                        <li><a href=\"../employment/train/\">Eligible Training Provider List - WIOA</a></li>\\r\\n                                        <li><a href=\"../employment/disabilities.shtml\">Information for Individuals with Disabilities</a></li>\\r\\n                                        <li><a href=\"../employment/agempworker.shtml\">Agricultural Employers and Workers</a></li>\\r\\n                                        <li><a href=\"../employment/youth.shtml\">Youth Workforce Programs and Services</a></li>\\r\\n                                        <li><a href=\"../employment/reentry.shtml\">Re-entry</a></li>\\r\\n                                        <li><a href=\"../employment/busservices.shtml\">Business Services</a></li>\\r\\n                                        <li><a href=\"../earn/\">EARN Maryland</a></li>\\r\\n                                        <li><a href=\"../employment/taxcreditintroduction.shtml\">Tax Credits</a></li>\\r\\n                                        <li><a href=\"../lmi/\">Labor Market Information</a></li>\\r\\n                                        <li><a href=\"../employment/wioa.shtml\">Workforce Innovation and Opportunity Act (WIOA)</a></li>\\r\\n                                        <li><a href=\"../employment/scsep.shtml\">Senior Community Services Employment Program</a></li>\\r\\n                                        <li><a href=\"../gedmd/\">Adult Education</a></li>\\r\\n                                        <li><a href=\"../gedmd/ged.shtml\">GED&reg; Information</a></li>\\r\\n                                        <li><a href=\"../gedmd/esl.shtml\">English Language Learners (ELL) Information</a></li>\\r\\n                                        <li><a href=\"../ce/\">Correctional Education</a></li>\\r\\n                                        <li><a href=\"../employment/appr/\">Apprenticeship & Training Program</a></li>\\r\\n                                        <li><a href=\"../employment/appr/youthappr.shtml\">Youth Apprenticeship</a></li>\\r\\n                                        <li><a href=\"../employment/appr/apprambassador.shtml\">Apprenticeship Ambassador Program</a></li>\\r\\n                                        <li><a href=\"../employment/newamerwrkforce.shtml\">New Americans</a></li>\\r\\n                                        <li><a href=\"http://www.foreignlaborcert.doleta.gov/mission.cfm\">Foreign Labor Certification</a></li>\\r\\n                                        <li><a href=\"../employment/careerpathways/\">Career Pathways</a></li>\\r\\n                                    </ul>\\r\\n                                </div>\\r\\n                            </section>\\r\\n\\r\\n                            <section id=\"subNav2\" class=\"primary_left_col_list\">\\r\\n                                <header>\\r\\n                                    <h2 data-target=\"subNav2\">Quick Links</h2>\\r\\n                                </header>\\r\\n                                <div class=\"subNavWrapper\">\\r\\n                                    <ul class=\"cl_iconNav\">\\r\\n                                        <li><a href=\"http://mwejobs.maryland.gov/\">Maryland Workforce Exchange (MWE)</a></li>\\r\\n                                        <li><a href=\"http://www.workforceinvestmentworks.com/maryland/\">Maryland Jobs Now (MJN)</a></li>\\r\\n                                        <li><a href=\"../poac/\">Professional Outplacement Assistance Center (POAC)</a></li>\\r\\n                                        <li><a href=\"../employment/warn.shtml\">Information about the Worker Adjustment and Retraining Notification Act (WARN)</a></li>\\r\\n                                        <li><a href=\"../employment/train/\">Eligible Training Provider System - WIOA</a></li>\\r\\n                                        <li><a href=\"../employment/mpi/\">Policy Issuances</a></li>\\r\\n                                        <li><a href=\"../employment/wdpublications.shtml\">Publications</a></li>\\r\\n                                        <li><a href=\"../employment/jobfairs.shtml\">Job Fairs and Recruitments</a></li>\\r\\n                                        <li><a href=\"http://www.mdnewhire.com/\">Maryland New Hire Registry</a></li>\\r\\n                                        <li><a href=\"../opl/\">Public Meetings Calendar</a></li>\\r\\n                                        <li><a href=\"../wdplan/\">Maryland Workforce Innovation and Opportunity Act (WIOA) State Plan</a></li>\\r\\n                                        <li><a href=\"../employment/success/\">Workforce System Success Stories</a></li>\\r\\n                                    </ul>\\r\\n                                </div>\\r\\n                            </section>\\r\\n                        </div>\\r\\n                    </div>\\r\\n\\r\\n                    <div id=\"primary_right_col\" class=\"span9\">\\r\\n                        <div class=\"mdgov_contentWrapper\">\\r\\n                            <h1>Work Adjustment and Retraining Notification (WARN) Log Year 2020 - Division of Workforce Development &amp; Adult Learning</h1>\\r\\n                            \\r\\n<p><a href=\"disworkerreport.shtml\">Employers - Report a Dislocation Event</a></p>\\r\\nï»¿<!--begin first secondary content area-->\\r\\n                          <div class=\"row-fluid\">\\r\\n                <div id=\"secondary_content_Block\" class=\"clearfix\">\\r\\n                  <div class=\"span3 clearfix\">\\r\\n                        <div id=\"secondary_left_col\">                        \\t\\r\\n                        \\t  <!-- this is SecondaryCol1 -->\\r\\n                          <p><strong>Local Area Codes</strong></p>\\r\\n                        \\t  <p>1. A.A. CO.<br>\\r\\n2. BALTO. CO.<br>\\r\\n3. BALTO. CITY<br>\\r\\n4. FREDERICK<br>\\r\\n5. LOWER SHORE<br>\\r\\n6. MID-MD.<br>\\r\\n7. MONTGOMERY</p>\\r\\n                     </div>\\r\\n                    </div>               \\r\\n                  <div class=\"span3 clearfix\">\\r\\n                    <div id=\"secondary_middle_col_lt\">\\r\\n                      <p>&nbsp;</p>\\r\\n                      <p>&nbsp;8. PRINCE GEORGE\\'S<br>\\r\\n&nbsp;9. SOUTHERN MARYLAND<br>\\r\\n10. SUSQUEHANNA<br>\\r\\n11. UPPER SHORE<br>\\r\\n12. WESTERN MARYLAND<br>\\r\\n13. STATEWIDE</p>\\r\\n                      </div>\\r\\n                  </div>\\r\\n                  <div class=\"span3 clearfix\">\\r\\n                        <div id=\"secondary_middle_col_rt\">\\r\\n                        <p><strong>Type Codes</strong></p>\\r\\n                          <p>1. PLANT CLOSURE<br>\\r\\n                          2. MASS LAYOFF<br>\\r\\n                          &nbsp;<br>\\r\\n                          &nbsp;<br>\\r\\n                          &nbsp;<br>\\r\\n                          &nbsp;</p>\\r\\n                    </div>\\r\\n                    </div>\\r\\n                  <div class=\"span3 clearfix\">\\r\\n                        <div id=\"secondary_middle_col_rt\">\\r\\n                      <p>&nbsp;<br>\\r\\n                      <p><a href=\"warndashboard.shtml\">WARN Dashboard</a><br />\\r\\n                      <a href=\"https://www.dol.gov/general/topic/termination/plantclosings\">WARN Facts</a>&nbsp;<br>\\r\\n                      <a href=\"https://www.law.cornell.edu/cfr/text/20/part-639\">WARN Federal Regulations</a>&nbsp;<br>\\r\\n                      <a href=\"http://www.dsd.state.md.us/comar/SubtitleSearch.aspx?search=09.33.02.*\"> \\r\\n                          Maryland Economic Stabilization Act</a></p>\\r\\n                          <p>\\r\\n                          &nbsp;<br>\\r\\n                          &nbsp;<br>\\r\\n                          &nbsp;</p>\\r\\n                    </div>\\r\\n\\r\\n\\r\\n                </div>\\r\\n           </div>\\r\\n           <!--end first secondary content area--><br>\\r\\n                          <table width=\"96%\" border=\"1\" cellspacing=\"0\" align=\"center\">\\r\\n                              <tr>\\r\\n                                <td><strong>Notice Date</strong></td>\\r\\n                                <td><strong>NAICS<br>\\r\\n                                  Code</strong></td>\\r\\n                                <td><strong>Company</strong></td>\\r\\n                                <td><strong>Location</strong></td>\\r\\n                                <td align=\"right\"><strong>WIA<br>\\r\\n                                  Code</strong></td>\\r\\n                                <td align=\"right\"><strong>Total<br>\\r\\n                                  Employees</strong></td>\\r\\n                                <td align=\"right\"><strong>Effective<br>\\r\\n                                  Date</strong></td>\\r\\n                                <td align=\"center\"><strong>Type<br>\\r\\n                                  Code</strong></td>\\r\\n                              </tr>\\r\\n\\r\\n\\t\\t\\t\\t\\t\\t\\t<tr>\\r\\n\\t\\t\\t\\t\\t\\t\\t  <td>1/10/2020</td>\\r\\n\\t\\t\\t\\t\\t\\t\\t  <td>452210</td>\\r\\n\\t\\t\\t\\t\\t\\t\\t  <td>Macy\\'s</td>\\r\\n\\t\\t\\t\\t\\t\\t\\t  <td>2304 N. Salisbury Blvd Salisbury, MD 21801<br></td>\\r\\n\\t\\t\\t\\t\\t\\t\\t  <td align=\"right\">5</td>\\r\\n\\t\\t\\t\\t\\t\\t\\t  <td align=\"right\">80</td>\\r\\n\\t\\t\\t\\t\\t\\t\\t  <td align=\"right\">3/30/2020</td>\\r\\n\\t\\t\\t\\t\\t\\t\\t    <td align=\"center\">1</td>\\r\\n\\t\\t\\t\\t\\t\\t    </tr>\\r\\n\\t\\t\\t\\t\\t\\t\\t<tr>\\r\\n\\t\\t\\t\\t\\t\\t\\t  <td>1/15/2020</td>\\r\\n\\t\\t\\t\\t\\t\\t\\t  <td>493110</td>\\r\\n\\t\\t\\t\\t\\t\\t\\t  <td>IAS Logistics DFW, LLC                           d/b/a                     Pinnacle Logistics</td>\\r\\n\\t\\t\\t\\t\\t\\t\\t  <td> BWI Airport                 7050 Friendship Road Baltimore, MD 21240\\t1</td>\\r\\n\\t\\t\\t\\t\\t\\t\\t  <td align=\"right\">1</td>\\r\\n\\t\\t\\t\\t\\t\\t\\t  <td align=\"right\">1,609</td>\\r\\n\\t\\t\\t\\t\\t\\t\\t  <td align=\"right\">4/14/2020</td>\\r\\n\\t\\t\\t\\t\\t\\t\\t    <td align=\"center\">2</td>\\r\\n\\t\\t\\t\\t\\t\\t    </tr>\\r\\n\\t\\t\\t\\t\\t\\t\\t<tr>\\r\\n\\t\\t\\t\\t\\t\\t\\t  <td>1/29/2020</td>\\r\\n\\t\\t\\t\\t\\t\\t\\t  <td>493110</td>\\r\\n\\t\\t\\t\\t\\t\\t\\t  <td>Collington Distribution Center</td>\\r\\n\\t\\t\\t\\t\\t\\t\\t  <td>16020 Leeland Road Upper Marlboro, MD 20774</td>\\r\\n\\t\\t\\t\\t\\t\\t\\t  <td align=\"right\">8</td>\\r\\n\\t\\t\\t\\t\\t\\t\\t  <td align=\"right\">520</td>\\r\\n\\t\\t\\t\\t\\t\\t\\t  <td align=\"right\">8/1/2020</td>\\r\\n\\t\\t\\t\\t\\t\\t\\t    <td align=\"center\">1</td>\\r\\n\\t\\t\\t\\t\\t\\t    </tr>\\r\\n\\t\\t\\t\\t\\t\\t\\t<tr>\\r\\n\\t\\t\\t\\t\\t\\t\\t  <td>1/29/2020</td>\\r\\n\\t\\t\\t\\t\\t\\t\\t  <td>531311</td>\\r\\n\\t\\t\\t\\t\\t\\t\\t  <td>Oakwood Worldwide (US) LP</td>\\r\\n\\t\\t\\t\\t\\t\\t\\t  <td>888 Airport Park Road Suite A                         Glen Burnie, MD 21061</td>\\r\\n\\t\\t\\t\\t\\t\\t\\t  <td align=\"right\">1</td>\\r\\n\\t\\t\\t\\t\\t\\t\\t  <td align=\"right\">2</td>\\r\\n\\t\\t\\t\\t\\t\\t\\t  <td align=\"right\">3/30/2020</td>\\r\\n\\t\\t\\t\\t\\t\\t\\t    <td align=\"center\">2</td>\\r\\n\\t\\t\\t\\t\\t\\t    </tr>\\r\\n\\t\\t\\t\\t\\t\\t\\t<tr>\\r\\n\\t\\t\\t\\t\\t\\t\\t  <td>2/11/2020</td>\\r\\n\\t\\t\\t\\t\\t\\t\\t  <td>492110</td>\\r\\n\\t\\t\\t\\t\\t\\t\\t  <td>Fedex Ground Package System, Inc.</td>\\r\\n\\t\\t\\t\\t\\t\\t\\t  <td>4801 Hollins Ferry Road  Halethorpe, MD 21227</td>\\r\\n\\t\\t\\t\\t\\t\\t\\t  <td align=\"right\">2</td>\\r\\n\\t\\t\\t\\t\\t\\t\\t  <td align=\"right\">130</td>\\r\\n\\t\\t\\t\\t\\t\\t\\t  <td align=\"right\">4/18/2020</td>\\r\\n\\t\\t\\t\\t\\t\\t\\t    <td align=\"center\">1</td>\\r\\n\\t\\t\\t\\t\\t\\t    </tr>\\r\\n\\t\\t\\t\\t\\t\\t\\t<tr>\\r\\n\\t\\t\\t\\t\\t\\t\\t  <td>2/18/2020</td>\\r\\n\\t\\t\\t\\t\\t\\t\\t  <td>811111</td>\\r\\n\\t\\t\\t\\t\\t\\t\\t  <td>Transform SR LLC-06063                  (Sears Auto Center)</td>\\r\\n\\t\\t\\t\\t\\t\\t\\t  <td>11170 Mall Circle Waldorf, MD 20603</td>\\r\\n\\t\\t\\t\\t\\t\\t\\t  <td align=\"right\">9</td>\\r\\n\\t\\t\\t\\t\\t\\t\\t  <td align=\"right\">10</td>\\r\\n\\t\\t\\t\\t\\t\\t\\t  <td align=\"right\">4/12/2020</td>\\r\\n\\t\\t\\t\\t\\t\\t\\t    <td align=\"center\">1</td>\\r\\n\\t\\t\\t\\t\\t\\t    </tr>\\r\\n\\t\\t\\t\\t\\t\\t\\t<tr>\\r\\n\\t\\t\\t\\t\\t\\t\\t  <td>2/18/2020</td>\\r\\n\\t\\t\\t\\t\\t\\t\\t  <td>452210</td>\\r\\n\\t\\t\\t\\t\\t\\t\\t  <td>Transform SR LLC-01074                  (Sears Department Store)</td>\\r\\n\\t\\t\\t\\t\\t\\t\\t  <td>11170 Mall Circle Waldorf, MD 20603</td>\\r\\n\\t\\t\\t\\t\\t\\t\\t  <td align=\"right\">9</td>\\r\\n\\t\\t\\t\\t\\t\\t\\t  <td align=\"right\">58</td>\\r\\n\\t\\t\\t\\t\\t\\t\\t  <td align=\"right\">4/12/2020</td>\\r\\n\\t\\t\\t\\t\\t\\t\\t    <td align=\"center\">1</td>\\r\\n\\t\\t\\t\\t\\t\\t    </tr>\\r\\n\\t\\t\\t\\t\\t\\t\\t<tr>\\r\\n\\t\\t\\t\\t\\t\\t\\t  <td>3/5/2020</td>\\r\\n\\t\\t\\t\\t\\t\\t\\t  <td>624190</td>\\r\\n\\t\\t\\t\\t\\t\\t\\t  <td>Salvation Army Adult Rehabilitation Centers</td>\\r\\n\\t\\t\\t\\t\\t\\t\\t  <td>10912 York Road     Cockeysville, MD 21030</td>\\r\\n\\t\\t\\t\\t\\t\\t\\t  <td align=\"right\">2</td>\\r\\n\\t\\t\\t\\t\\t\\t\\t  <td align=\"right\">11</td>\\r\\n\\t\\t\\t\\t\\t\\t\\t  <td align=\"right\">5/30/2020</td>\\r\\n\\t\\t\\t\\t\\t\\t\\t    <td align=\"center\">1</td>\\r\\n\\t\\t\\t\\t\\t\\t    </tr>\\r\\n\\t\\t\\t\\t\\t\\t\\t<tr>\\r\\n\\t\\t\\t\\t\\t\\t\\t  <td>3/5/2020</td>\\r\\n\\t\\t\\t\\t\\t\\t\\t  <td>624190</td>\\r\\n\\t\\t\\t\\t\\t\\t\\t  <td>Salvation Army Adult Rehabilitation Centers</td>\\r\\n\\t\\t\\t\\t\\t\\t\\t  <td>2250 Gable Avenue     Baltimore, MD 21230</td>\\r\\n\\t\\t\\t\\t\\t\\t\\t  <td align=\"right\">3</td>\\r\\n\\t\\t\\t\\t\\t\\t\\t  <td align=\"right\">17</td>\\r\\n\\t\\t\\t\\t\\t\\t\\t  <td align=\"right\">5/30/2020</td>\\r\\n\\t\\t\\t\\t\\t\\t\\t    <td align=\"center\">1</td>\\r\\n\\t\\t\\t\\t\\t\\t    </tr>\\r\\n\\t\\t\\t\\t\\t\\t\\t<tr>\\r\\n\\t\\t\\t\\t\\t\\t\\t  <td>3/5/2020</td>\\r\\n\\t\\t\\t\\t\\t\\t\\t  <td>624190</td>\\r\\n\\t\\t\\t\\t\\t\\t\\t  <td>Salvation Army Adult Rehabilitation Centers</td>\\r\\n\\t\\t\\t\\t\\t\\t\\t  <td>2700 W. Patapsco Ave  Baltimore, MD 21230</td>\\r\\n\\t\\t\\t\\t\\t\\t\\t  <td align=\"right\">3</td>\\r\\n\\t\\t\\t\\t\\t\\t\\t  <td align=\"right\">31</td>\\r\\n\\t\\t\\t\\t\\t\\t\\t  <td align=\"right\">5/30/2020</td>\\r\\n\\t\\t\\t\\t\\t\\t\\t    <td align=\"center\">1</td>\\r\\n\\t\\t\\t\\t\\t\\t    </tr>\\r\\n\\t\\t\\t\\t\\t\\t\\t<tr>\\r\\n\\t\\t\\t\\t\\t\\t\\t  <td>3/9/2020</td>\\r\\n\\t\\t\\t\\t\\t\\t\\t  <td>442110</td>\\r\\n\\t\\t\\t\\t\\t\\t\\t  <td>Wolf Furniture</td>\\r\\n\\t\\t\\t\\t\\t\\t\\t  <td>2400 Churchville Road                   Bel Air, MD 21015</td>\\r\\n\\t\\t\\t\\t\\t\\t\\t  <td align=\"right\">10</td>\\r\\n\\t\\t\\t\\t\\t\\t\\t  <td align=\"right\">17</td>\\r\\n\\t\\t\\t\\t\\t\\t\\t  <td align=\"right\">5/9/2020</td>\\r\\n\\t\\t\\t\\t\\t\\t\\t    <td align=\"center\">1</td>\\r\\n\\t\\t\\t\\t\\t\\t    </tr>\\r\\n\\t\\t\\t\\t\\t\\t\\t<tr>\\r\\n\\t\\t\\t\\t\\t\\t\\t  <td>3/9/2020</td>\\r\\n\\t\\t\\t\\t\\t\\t\\t  <td>442110</td>\\r\\n\\t\\t\\t\\t\\t\\t\\t  <td>Wolf Furniture</td>\\r\\n\\t\\t\\t\\t\\t\\t\\t  <td>6415 Baltimore National Pike   Catonsville, MD 21228</td>\\r\\n\\t\\t\\t\\t\\t\\t\\t  <td align=\"right\">2</td>\\r\\n\\t\\t\\t\\t\\t\\t\\t  <td align=\"right\">19</td>\\r\\n\\t\\t\\t\\t\\t\\t\\t  <td align=\"right\">5/9/2020</td>\\r\\n\\t\\t\\t\\t\\t\\t\\t    <td align=\"center\">1</td>\\r\\n\\t\\t\\t\\t\\t\\t    </tr>\\r\\n\\t\\t\\t\\t\\t\\t\\t<tr>\\r\\n\\t\\t\\t\\t\\t\\t\\t  <td>3/9/2020</td>\\r\\n\\t\\t\\t\\t\\t\\t\\t  <td>442110</td>\\r\\n\\t\\t\\t\\t\\t\\t\\t  <td>Wolf Furniture</td>\\r\\n\\t\\t\\t\\t\\t\\t\\t  <td>1215 W. Patrick Street       Frederick, MD 21702</td>\\r\\n\\t\\t\\t\\t\\t\\t\\t  <td align=\"right\">4</td>\\r\\n\\t\\t\\t\\t\\t\\t\\t  <td align=\"right\">21</td>\\r\\n\\t\\t\\t\\t\\t\\t\\t  <td align=\"right\">5/9/2020</td>\\r\\n\\t\\t\\t\\t\\t\\t\\t    <td align=\"center\">1</td>\\r\\n\\t\\t\\t\\t\\t\\t    </tr>\\r\\n\\t\\t\\t\\t\\t\\t\\t<tr>\\r\\n\\t\\t\\t\\t\\t\\t\\t  <td>3/9/2020</td>\\r\\n\\t\\t\\t\\t\\t\\t\\t  <td>442110</td>\\r\\n\\t\\t\\t\\t\\t\\t\\t  <td>Wolf Furniture</td>\\r\\n\\t\\t\\t\\t\\t\\t\\t  <td>900 Premimum Outlets Blvd.      Hagerstown, MD 21740</td>\\r\\n\\t\\t\\t\\t\\t\\t\\t  <td align=\"right\">12</td>\\r\\n\\t\\t\\t\\t\\t\\t\\t  <td align=\"right\">24</td>\\r\\n\\t\\t\\t\\t\\t\\t\\t  <td align=\"right\">5/9/2020</td>\\r\\n\\t\\t\\t\\t\\t\\t\\t    <td align=\"center\">1</td>\\r\\n\\t\\t\\t\\t\\t\\t    </tr>\\r\\n\\t\\t\\t\\t\\t\\t\\t<tr>\\r\\n\\t\\t\\t\\t\\t\\t\\t  <td>3/9/2020</td>\\r\\n\\t\\t\\t\\t\\t\\t\\t  <td>442110</td>\\r\\n\\t\\t\\t\\t\\t\\t\\t  <td>Wolf Furniture</td>\\r\\n\\t\\t\\t\\t\\t\\t\\t  <td>8038 Ritchie Highway         Pasadena, MD 21122</td>\\r\\n\\t\\t\\t\\t\\t\\t\\t  <td align=\"right\">1</td>\\r\\n\\t\\t\\t\\t\\t\\t\\t  <td align=\"right\">27</td>\\r\\n\\t\\t\\t\\t\\t\\t\\t  <td align=\"right\">5/9/2020</td>\\r\\n\\t\\t\\t\\t\\t\\t\\t    <td align=\"center\">1</td>\\r\\n\\t\\t\\t\\t\\t\\t    </tr>\\r\\n\\t\\t\\t\\t\\t\\t\\t<tr>\\r\\n\\t\\t\\t\\t\\t\\t\\t  <td>3/9/2020</td>\\r\\n\\t\\t\\t\\t\\t\\t\\t  <td>442110</td>\\r\\n\\t\\t\\t\\t\\t\\t\\t  <td>Wolf Furniture</td>\\r\\n\\t\\t\\t\\t\\t\\t\\t  <td>1530 E. Joppa Road                 Towson, MD 21286</td>\\r\\n\\t\\t\\t\\t\\t\\t\\t  <td align=\"right\">2</td>\\r\\n\\t\\t\\t\\t\\t\\t\\t  <td align=\"right\">26</td>\\r\\n\\t\\t\\t\\t\\t\\t\\t  <td align=\"right\">5/9/2020</td>\\r\\n\\t\\t\\t\\t\\t\\t\\t    <td align=\"center\">1</td>\\r\\n\\t\\t\\t\\t\\t\\t    </tr>\\r\\n\\t\\t\\t\\t\\t\\t\\t<tr>\\r\\n\\t\\t\\t\\t\\t\\t\\t  <td>3/9/2020</td>\\r\\n\\t\\t\\t\\t\\t\\t\\t  <td>442110</td>\\r\\n\\t\\t\\t\\t\\t\\t\\t  <td>Wolf Furniture</td>\\r\\n\\t\\t\\t\\t\\t\\t\\t  <td>1030 Baltimore Blvd.         Westminster, MD 21157</td>\\r\\n\\t\\t\\t\\t\\t\\t\\t  <td align=\"right\">6</td>\\r\\n\\t\\t\\t\\t\\t\\t\\t  <td align=\"right\">17</td>\\r\\n\\t\\t\\t\\t\\t\\t\\t  <td align=\"right\">5/9/2020</td>\\r\\n\\t\\t\\t\\t\\t\\t\\t    <td align=\"center\">1</td>\\r\\n\\t\\t\\t\\t\\t\\t    </tr>\\r\\n\\t\\t\\t\\t\\t\\t\\t<tr>\\r\\n\\t\\t\\t\\t\\t\\t\\t  <td>3/18/2020</td>\\r\\n\\t\\t\\t\\t\\t\\t\\t  <td>611620</td>\\r\\n\\t\\t\\t\\t\\t\\t\\t  <td>Silver Spring Gymnastics & Fitness</td>\\r\\n\\t\\t\\t\\t\\t\\t\\t  <td>2701 Pittman Drive           Silver Spring, MD 20910</td>\\r\\n\\t\\t\\t\\t\\t\\t\\t  <td align=\"right\">7</td>\\r\\n\\t\\t\\t\\t\\t\\t\\t  <td align=\"right\">88</td>\\r\\n\\t\\t\\t\\t\\t\\t\\t  <td align=\"right\">3/16/2020</td>\\r\\n\\t\\t\\t\\t\\t\\t\\t    <td align=\"center\">2</td>\\r\\n\\t\\t\\t\\t\\t\\t    </tr>\\r\\n\\t\\t\\t\\t\\t\\t\\t<tr>\\r\\n\\t\\t\\t\\t\\t\\t\\t  <td>3/18/2020</td>\\r\\n\\t\\t\\t\\t\\t\\t\\t  <td>812930</td>\\r\\n\\t\\t\\t\\t\\t\\t\\t  <td>SP Plus Corporation</td>\\r\\n\\t\\t\\t\\t\\t\\t\\t  <td> \\t101 MGM National Avenue   Oxon Hill, MD 20745</td>\\r\\n\\t\\t\\t\\t\\t\\t\\t  <td align=\"right\">8</td>\\r\\n\\t\\t\\t\\t\\t\\t\\t  <td align=\"right\">85</td>\\r\\n\\t\\t\\t\\t\\t\\t\\t  <td align=\"right\">3/15/2020</td>\\r\\n\\t\\t\\t\\t\\t\\t\\t  <td align=\"center\">2</td>\\r\\n\\t\\t\\t\\t\\t\\t    </tr>\\r\\n\\t\\t\\t\\t\\t\\t\\t\\r\\n\\t\\t\\t\\t\\t\\t\\t<tr>\\r\\n\\t\\t\\t\\t\\t\\t\\t  <td>3/19/2020</td>\\r\\n\\t\\t\\t\\t\\t\\t\\t  <td>722515</td>\\r\\n\\t\\t\\t\\t\\t\\t\\t  <td>Artifact Coffee</td>\\r\\n\\t\\t\\t\\t\\t\\t\\t  <td>1500 Union Avenue                                           Suite 1100                                       Baltimore, MD 21211</td>\\r\\n\\t\\t\\t\\t\\t\\t\\t  <td align=\"right\">3</td>\\r\\n\\t\\t\\t\\t\\t\\t\\t  <td align=\"right\">24</td>\\r\\n\\t\\t\\t\\t\\t\\t\\t  <td align=\"right\">3/16/2020</td>\\r\\n\\t\\t\\t\\t\\t\\t\\t    <td align=\"center\">2</td>\\r\\n\\t\\t\\t\\t\\t\\t    </tr>\\r\\n\\t\\t\\t\\t\\t\\t\\t<tr>\\r\\n\\t\\t\\t\\t\\t\\t\\t  <td>3/19/2020</td>\\r\\n\\t\\t\\t\\t\\t\\t\\t  <td>722511</td>\\r\\n\\t\\t\\t\\t\\t\\t\\t  <td>Foodshed, LLC</td>\\r\\n\\t\\t\\t\\t\\t\\t\\t  <td>2031 Clipper Park Road                                        Baltimore, MD 21211</td>\\r\\n\\t\\t\\t\\t\\t\\t\\t  <td align=\"right\">3</td>\\r\\n\\t\\t\\t\\t\\t\\t\\t  <td align=\"right\">4</td>\\r\\n\\t\\t\\t\\t\\t\\t\\t  <td align=\"right\">3/16/2020</td>\\r\\n\\t\\t\\t\\t\\t\\t\\t    <td align=\"center\">2</td>\\r\\n\\t\\t\\t\\t\\t\\t    </tr>\\r\\n\\t\\t\\t\\t\\t\\t\\t<tr>\\r\\n\\t\\t\\t\\t\\t\\t\\t  <td>3/19/2020</td>\\r\\n\\t\\t\\t\\t\\t\\t\\t  <td>722511</td>\\r\\n\\t\\t\\t\\t\\t\\t\\t  <td>Woodberry Kitchen</td>\\r\\n\\t\\t\\t\\t\\t\\t\\t  <td>2010 Clipper Park Road      Suite 118                                       Baltimore, MD 212110</td>\\r\\n\\t\\t\\t\\t\\t\\t\\t  <td align=\"right\">3</td>\\r\\n\\t\\t\\t\\t\\t\\t\\t  <td align=\"right\">76</td>\\r\\n\\t\\t\\t\\t\\t\\t\\t  <td align=\"right\">3/16/2020</td>\\r\\n\\t\\t\\t\\t\\t\\t\\t    <td align=\"center\">2</td>\\r\\n\\t\\t\\t\\t\\t\\t    </tr>\\r\\n\\t\\t\\t\\t\\t\\t\\t<tr>\\r\\n\\t\\t\\t\\t\\t\\t\\t  <td>3/19/2020</td>\\r\\n\\t\\t\\t\\t\\t\\t\\t  <td>721110</td>\\r\\n\\t\\t\\t\\t\\t\\t\\t  <td>Hotel at UMCP</td>\\r\\n\\t\\t\\t\\t\\t\\t\\t  <td>7777 Baltimore Avenue                 College Park, MD 20740</td>\\r\\n\\t\\t\\t\\t\\t\\t\\t  <td align=\"right\">8</td>\\r\\n\\t\\t\\t\\t\\t\\t\\t  <td align=\"right\">150</td>\\r\\n\\t\\t\\t\\t\\t\\t\\t  <td align=\"right\">3/19/2020</td>\\r\\n\\t\\t\\t\\t\\t\\t\\t  <td align=\"center\">2</td>\\r\\n\\t\\t\\t\\t\\t\\t    </tr>\\r\\n\\t\\t\\t\\t\\t\\t\\t<tr>\\r\\n\\t\\t\\t\\t\\t\\t\\t  <td>3/23/2020</td>\\r\\n\\t\\t\\t\\t\\t\\t\\t  <td>713290</td>\\r\\n\\t\\t\\t\\t\\t\\t\\t  <td>Delta Bingo &amp; Gaming</td>\\r\\n\\t\\t\\t\\t\\t\\t\\t  <td> 3605 Ft. Meade Road              Laurel, MD 20724</td>\\r\\n\\t\\t\\t\\t\\t\\t\\t  <td align=\"right\">8</td>\\r\\n\\t\\t\\t\\t\\t\\t\\t  <td align=\"right\">122</td>\\r\\n\\t\\t\\t\\t\\t\\t\\t  <td align=\"right\">3/30/2020</td>\\r\\n\\t\\t\\t\\t\\t\\t\\t  <td align=\"center\">2</td>\\r\\n\\t\\t\\t\\t\\t\\t    </tr>\\r\\n\\t\\t\\t\\t\\t\\t\\t<tr>\\r\\n\\t\\t\\t\\t\\t\\t\\t  <td>3/25/2020</td>\\r\\n\\t\\t\\t\\t\\t\\t\\t  <td>812331</td>\\r\\n\\t\\t\\t\\t\\t\\t\\t  <td>ALSCO</td>\\r\\n\\t\\t\\t\\t\\t\\t\\t  <td> \\t\\t\\t4900 Philadelphia Way Lanham, MD 20706</td>\\r\\n\\t\\t\\t\\t\\t\\t\\t  <td align=\"right\">8</td>\\r\\n\\t\\t\\t\\t\\t\\t\\t  <td align=\"right\">150</td>\\r\\n\\t\\t\\t\\t\\t\\t\\t  <td align=\"right\">3/20/2020</td>\\r\\n\\t\\t\\t\\t\\t\\t\\t    <td align=\"center\">2</td>\\r\\n\\t\\t\\t\\t\\t\\t    </tr>\\r\\n\\t\\t\\t\\t\\t\\t\\t<tr>\\r\\n\\t\\t\\t\\t\\t\\t\\t  <td>3/25/2020</td>\\r\\n\\t\\t\\t\\t\\t\\t\\t  <td>721110</td>\\r\\n\\t\\t\\t\\t\\t\\t\\t  <td>Sheraton Columbia Hotel</td>\\r\\n\\t\\t\\t\\t\\t\\t\\t  <td>10207 Wincopin Circle Columbia, MD 21044</td>\\r\\n\\t\\t\\t\\t\\t\\t\\t  <td align=\"right\">6</td>\\r\\n\\t\\t\\t\\t\\t\\t\\t  <td align=\"right\">111</td>\\r\\n\\t\\t\\t\\t\\t\\t\\t  <td align=\"right\">3/16/2020</td>\\r\\n\\t\\t\\t\\t\\t\\t\\t    <td align=\"center\">2</td>\\r\\n\\t\\t\\t\\t\\t\\t    </tr>\\r\\n\\t\\t\\t\\t\\t\\t\\t<tr>\\r\\n\\t\\t\\t\\t\\t\\t\\t  <td>3/26/2020</td>\\r\\n\\t\\t\\t\\t\\t\\t\\t  <td>236118</td>\\r\\n\\t\\t\\t\\t\\t\\t\\t  <td>Case Design/Remodeling</td>\\r\\n\\t\\t\\t\\t\\t\\t\\t  <td>4701 Sangamore Road      Suite P-40               Bethesda, MD 20816</td>\\r\\n\\t\\t\\t\\t\\t\\t\\t  <td align=\"right\">7</td>\\r\\n\\t\\t\\t\\t\\t\\t\\t  <td align=\"right\">16</td>\\r\\n\\t\\t\\t\\t\\t\\t\\t  <td align=\"right\">3/23/2020</td>\\r\\n\\t\\t\\t\\t\\t\\t\\t    <td align=\"center\">2</td>\\r\\n\\t\\t\\t\\t\\t\\t    </tr>\\r\\n\\t\\t\\t\\t\\t\\t\\t<tr>\\r\\n\\t\\t\\t\\t\\t\\t\\t  <td>3/26/2020</td>\\r\\n\\t\\t\\t\\t\\t\\t\\t  <td>236118</td>\\r\\n\\t\\t\\t\\t\\t\\t\\t  <td>Case Design/Remodeling</td>\\r\\n\\t\\t\\t\\t\\t\\t\\t  <td>5030 Boiling Brook Parkway   Rockville, MD 20852</td>\\r\\n\\t\\t\\t\\t\\t\\t\\t  <td align=\"right\">7</td>\\r\\n\\t\\t\\t\\t\\t\\t\\t  <td align=\"right\">8</td>\\r\\n\\t\\t\\t\\t\\t\\t\\t  <td align=\"right\">3/23/2020</td>\\r\\n\\t\\t\\t\\t\\t\\t\\t    <td align=\"center\">2</td>\\r\\n\\t\\t\\t\\t\\t\\t    </tr>\\r\\n\\t\\t\\t\\t\\t\\t\\t<tr>\\r\\n\\t\\t\\t\\t\\t\\t\\t  <td>3/26/2020</td>\\r\\n\\t\\t\\t\\t\\t\\t\\t  <td>488119</td>\\r\\n\\t\\t\\t\\t\\t\\t\\t  <td>Prosegur Services Group at BWI</td>\\r\\n\\t\\t\\t\\t\\t\\t\\t  <td>7050 Friendship Road Baltimore, MD 21240</td>\\r\\n\\t\\t\\t\\t\\t\\t\\t  <td align=\"right\">1</td>\\r\\n\\t\\t\\t\\t\\t\\t\\t  <td align=\"right\">53</td>\\r\\n\\t\\t\\t\\t\\t\\t\\t  <td align=\"right\">3/25/2020</td>\\r\\n\\t\\t\\t\\t\\t\\t\\t    <td align=\"center\">2</td>\\r\\n\\t\\t\\t\\t\\t\\t    </tr>\\r\\n\\t\\t\\t\\t\\t\\t\\t<tr>\\r\\n\\t\\t\\t\\t\\t\\t\\t  <td>3/30/2020</td>\\r\\n\\t\\t\\t\\t\\t\\t\\t  <td>561210</td>\\r\\n\\t\\t\\t\\t\\t\\t\\t  <td>Maximus Federal Services</td>\\r\\n\\t\\t\\t\\t\\t\\t\\t  <td>1601 McCormick Drive     Largo, MD 20774</td>\\r\\n\\t\\t\\t\\t\\t\\t\\t  <td align=\"right\">8</td>\\r\\n\\t\\t\\t\\t\\t\\t\\t  <td align=\"right\">55</td>\\r\\n\\t\\t\\t\\t\\t\\t\\t  <td align=\"right\">7/1/2020</td>\\r\\n\\t\\t\\t\\t\\t\\t\\t    <td align=\"center\">2</td>\\r\\n\\t\\t\\t\\t\\t\\t    </tr>\\r\\n\\t\\t\\t\\t\\t\\t\\t<tr>\\r\\n\\t\\t\\t\\t\\t\\t\\t  <td>3/30/2020</td>\\r\\n\\t\\t\\t\\t\\t\\t\\t  <td>611430</td>\\r\\n\\t\\t\\t\\t\\t\\t\\t  <td>Automotive Training Institute</td>\\r\\n\\t\\t\\t\\t\\t\\t\\t  <td>705 Digital Drive, Suite V Linthicum Heights, MD 21090</td>\\r\\n\\t\\t\\t\\t\\t\\t\\t  <td align=\"right\">1</td>\\r\\n\\t\\t\\t\\t\\t\\t\\t  <td align=\"right\">54</td>\\r\\n\\t\\t\\t\\t\\t\\t\\t  <td align=\"right\">3/29/2020</td>\\r\\n\\t\\t\\t\\t\\t\\t\\t    <td align=\"center\">2</td>\\r\\n\\t\\t\\t\\t\\t\\t    </tr>\\r\\n\\t\\t\\t\\t\\t\\t\\t<tr>\\r\\n\\t\\t\\t\\t\\t\\t\\t  <td>3/31/2020</td>\\r\\n\\t\\t\\t\\t\\t\\t\\t  <td>532412</td>\\r\\n\\t\\t\\t\\t\\t\\t\\t  <td>Ahern Rentals, Inc.</td>\\r\\n\\t\\t\\t\\t\\t\\t\\t  <td>7910 Penn Randall Place            Upper Marlboro, MD 20772</td>\\r\\n\\t\\t\\t\\t\\t\\t\\t  <td align=\"right\">8</td>\\r\\n\\t\\t\\t\\t\\t\\t\\t  <td align=\"right\">1</td>\\r\\n\\t\\t\\t\\t\\t\\t\\t  <td align=\"right\">3/30/2020</td>\\r\\n\\t\\t\\t\\t\\t\\t\\t    <td align=\"center\">2</td>\\r\\n\\t\\t\\t\\t\\t\\t    </tr>\\r\\n\\t\\t\\t\\t\\t\\t\\t<tr>\\r\\n\\t\\t\\t\\t\\t\\t\\t  <td>4/1/2020</td>\\r\\n\\t\\t\\t\\t\\t\\t\\t  <td>512131</td>\\r\\n\\t\\t\\t\\t\\t\\t\\t  <td>Cinemark Egyptian 24</td>\\r\\n\\t\\t\\t\\t\\t\\t\\t  <td>7000 Arundel Mills Circle         C-1                             Hanover, MD 21076</td>\\r\\n\\t\\t\\t\\t\\t\\t\\t  <td align=\"right\">1</td>\\r\\n\\t\\t\\t\\t\\t\\t\\t  <td align=\"right\">90</td>\\r\\n\\t\\t\\t\\t\\t\\t\\t  <td align=\"right\">3/27/2020</td>\\r\\n\\t\\t\\t\\t\\t\\t\\t    <td align=\"center\">2</td>\\r\\n\\t\\t\\t\\t\\t\\t    </tr>\\r\\n\\t\\t\\t\\t\\t\\t\\t<tr>\\r\\n\\t\\t\\t\\t\\t\\t\\t  <td>4/1/2020</td>\\r\\n\\t\\t\\t\\t\\t\\t\\t  <td>512131</td>\\r\\n\\t\\t\\t\\t\\t\\t\\t  <td>Cinemark Egyptian 24</td>\\r\\n\\t\\t\\t\\t\\t\\t\\t  <td>111 East Joppa Road                         Towson, MD 21286</td>\\r\\n\\t\\t\\t\\t\\t\\t\\t  <td align=\"right\">2</td>\\r\\n\\t\\t\\t\\t\\t\\t\\t  <td align=\"right\">146</td>\\r\\n\\t\\t\\t\\t\\t\\t\\t  <td align=\"right\">3/27/2020</td>\\r\\n\\t\\t\\t\\t\\t\\t\\t    <td align=\"center\">2</td>\\r\\n\\t\\t\\t\\t\\t\\t    </tr>\\r\\n\\t\\t\\t\\t\\t\\t\\t<tr>\\r\\n\\t\\t\\t\\t\\t\\t\\t  <td>3/30/2020</td>\\r\\n\\t\\t\\t\\t\\t\\t\\t  <td>721110</td>\\r\\n\\t\\t\\t\\t\\t\\t\\t  <td>Collegiate Hotel Group</td>\\r\\n\\t\\t\\t\\t\\t\\t\\t  <td>126 West Street              Annapolis, MD 21401</td>\\r\\n\\t\\t\\t\\t\\t\\t\\t  <td align=\"right\">1</td>\\r\\n\\t\\t\\t\\t\\t\\t\\t  <td align=\"right\">103</td>\\r\\n\\t\\t\\t\\t\\t\\t\\t  <td align=\"right\">3/16/2020</td>\\r\\n\\t\\t\\t\\t\\t\\t\\t    <td align=\"center\">2</td>\\r\\n\\t\\t\\t\\t\\t\\t    </tr>\\r\\n\\t\\t\\t\\t\\t\\t\\t<tr>\\r\\n\\t\\t\\t\\t\\t\\t\\t  <td>4/1/2020</td>\\r\\n\\t\\t\\t\\t\\t\\t\\t  <td>721110</td>\\r\\n\\t\\t\\t\\t\\t\\t\\t  <td>Schulte Companies d/b/a Embassy Suites Inner Harbor Hotel</td>\\r\\n\\t\\t\\t\\t\\t\\t\\t  <td>222 St. Paul Place                 Baltimore, MD 212020</td>\\r\\n\\t\\t\\t\\t\\t\\t\\t  <td align=\"right\">3</td>\\r\\n\\t\\t\\t\\t\\t\\t\\t  <td align=\"right\">103</td>\\r\\n\\t\\t\\t\\t\\t\\t\\t  <td align=\"right\">3/16/2020</td>\\r\\n\\t\\t\\t\\t\\t\\t\\t    <td align=\"center\">2</td>\\r\\n\\t\\t\\t\\t\\t\\t    </tr>\\r\\n\\t\\t\\t\\t\\t\\t\\t<tr>\\r\\n\\t\\t\\t\\t\\t\\t\\t  <td>4/1/2020</td>\\r\\n\\t\\t\\t\\t\\t\\t\\t  <td>721110</td>\\r\\n\\t\\t\\t\\t\\t\\t\\t  <td>Schulte Companies d/b/a Courtyard by Marriott</td>\\r\\n\\t\\t\\t\\t\\t\\t\\t  <td>128 Troopers Way                  Salisbury, MD 21804</td>\\r\\n\\t\\t\\t\\t\\t\\t\\t  <td align=\"right\">5</td>\\r\\n\\t\\t\\t\\t\\t\\t\\t  <td align=\"right\">32</td>\\r\\n\\t\\t\\t\\t\\t\\t\\t  <td align=\"right\">3/16/2020</td>\\r\\n\\t\\t\\t\\t\\t\\t\\t    <td align=\"center\">2</td>\\r\\n\\t\\t\\t\\t\\t\\t    </tr>\\r\\n\\t\\t\\t\\t\\t\\t\\t<tr>\\r\\n\\t\\t\\t\\t\\t\\t\\t  <td>4/1/2020</td>\\r\\n\\t\\t\\t\\t\\t\\t\\t  <td>721110</td>\\r\\n\\t\\t\\t\\t\\t\\t\\t  <td>Schulte Companies d/b/a Residence Inn by Marriott</td>\\r\\n\\t\\t\\t\\t\\t\\t\\t  <td>140 Centre Road                    Salisbury, MD 21801</td>\\r\\n\\t\\t\\t\\t\\t\\t\\t  <td align=\"right\">5</td>\\r\\n\\t\\t\\t\\t\\t\\t\\t  <td align=\"right\">15</td>\\r\\n\\t\\t\\t\\t\\t\\t\\t  <td align=\"right\">3/16/2020</td>\\r\\n\\t\\t\\t\\t\\t\\t\\t    <td align=\"center\">2</td>\\r\\n\\t\\t\\t\\t\\t\\t    </tr>\\r\\n\\t\\t\\t\\t\\t\\t\\t<tr>\\r\\n\\t\\t\\t\\t\\t\\t\\t  <td>4/1/2020</td>\\r\\n\\t\\t\\t\\t\\t\\t\\t  <td>721110</td>\\r\\n\\t\\t\\t\\t\\t\\t\\t  <td>Schulte Companies d/b/a Hampton Inn & Suites</td>\\r\\n\\t\\t\\t\\t\\t\\t\\t  <td>124 Womack Drive                              Annapolis, MD 21401</td>\\r\\n\\t\\t\\t\\t\\t\\t\\t  <td align=\"right\">1</td>\\r\\n\\t\\t\\t\\t\\t\\t\\t  <td align=\"right\">12</td>\\r\\n\\t\\t\\t\\t\\t\\t\\t  <td align=\"right\">3/16/2020</td>\\r\\n\\t\\t\\t\\t\\t\\t\\t    <td align=\"center\">2</td>\\r\\n\\t\\t\\t\\t\\t\\t    </tr>\\r\\n\\t\\t\\t\\t\\t\\t\\t<tr>\\r\\n\\t\\t\\t\\t\\t\\t\\t  <td>4/1/2020</td>\\r\\n\\t\\t\\t\\t\\t\\t\\t  <td>611699</td>\\r\\n\\t\\t\\t\\t\\t\\t\\t  <td>CorePower Yoga, LLC</td>\\r\\n\\t\\t\\t\\t\\t\\t\\t  <td>727 West 40th Street                Suite 136                           Baltimore, MD 21211</td>\\r\\n\\t\\t\\t\\t\\t\\t\\t  <td align=\"right\">3</td>\\r\\n\\t\\t\\t\\t\\t\\t\\t  <td align=\"right\">27</td>\\r\\n\\t\\t\\t\\t\\t\\t\\t  <td align=\"right\">3/30/2020</td>\\r\\n\\t\\t\\t\\t\\t\\t\\t    <td align=\"center\">2</td>\\r\\n\\t\\t\\t\\t\\t\\t    </tr>\\r\\n\\t\\t\\t\\t\\t\\t\\t<tr>\\r\\n\\t\\t\\t\\t\\t\\t\\t  <td>4/1/2020</td>\\r\\n\\t\\t\\t\\t\\t\\t\\t  <td>611699</td>\\r\\n\\t\\t\\t\\t\\t\\t\\t  <td>CorePower Yoga, LLC</td>\\r\\n\\t\\t\\t\\t\\t\\t\\t  <td>6708 Wisconsin Avenue                     Suite 300                        Chevy Chase, MD 20815</td>\\r\\n\\t\\t\\t\\t\\t\\t\\t  <td align=\"right\">7</td>\\r\\n\\t\\t\\t\\t\\t\\t\\t  <td align=\"right\">59</td>\\r\\n\\t\\t\\t\\t\\t\\t\\t  <td align=\"right\">3/30/2020</td>\\r\\n\\t\\t\\t\\t\\t\\t\\t    <td align=\"center\">2</td>\\r\\n\\t\\t\\t\\t\\t\\t    </tr>\\r\\n\\t\\t\\t\\t\\t\\t\\t<tr>\\r\\n\\t\\t\\t\\t\\t\\t\\t  <td>4/1/2020</td>\\r\\n\\t\\t\\t\\t\\t\\t\\t  <td>611699</td>\\r\\n\\t\\t\\t\\t\\t\\t\\t  <td>CorePower Yoga, LLC</td>\\r\\n\\t\\t\\t\\t\\t\\t\\t  <td>1321 Dock Street                   Baltimore, MD 21231</td>\\r\\n\\t\\t\\t\\t\\t\\t\\t  <td align=\"right\">3</td>\\r\\n\\t\\t\\t\\t\\t\\t\\t  <td align=\"right\">31</td>\\r\\n\\t\\t\\t\\t\\t\\t\\t  <td align=\"right\">3/30/2020</td>\\r\\n\\t\\t\\t\\t\\t\\t\\t    <td align=\"center\">2</td>\\r\\n\\t\\t\\t\\t\\t\\t    </tr>\\r\\n\\t\\t\\t\\t\\t\\t\\t<tr>\\r\\n\\t\\t\\t\\t\\t\\t\\t  <td>4/1/2020</td>\\r\\n\\t\\t\\t\\t\\t\\t\\t  <td>611699</td>\\r\\n\\t\\t\\t\\t\\t\\t\\t  <td>CorePower Yoga, LLC</td>\\r\\n\\t\\t\\t\\t\\t\\t\\t  <td>1420 Key Highway                   Suite 201                         Baltimore, MD 21230</td>\\r\\n\\t\\t\\t\\t\\t\\t\\t  <td align=\"right\">3</td>\\r\\n\\t\\t\\t\\t\\t\\t\\t  <td align=\"right\">42</td>\\r\\n\\t\\t\\t\\t\\t\\t\\t  <td align=\"right\">3/30/2020</td>\\r\\n\\t\\t\\t\\t\\t\\t\\t    <td align=\"center\">2</td>\\r\\n\\t\\t\\t\\t\\t\\t    </tr>\\r\\n\\t\\t\\t\\t\\t\\t\\t<tr>\\r\\n\\t\\t\\t\\t\\t\\t\\t  <td>4/1/2020</td>\\r\\n\\t\\t\\t\\t\\t\\t\\t  <td>611699</td>\\r\\n\\t\\t\\t\\t\\t\\t\\t  <td>CorePower Yoga, LLC</td>\\r\\n\\t\\t\\t\\t\\t\\t\\t  <td>3700 Toone Street                                                                                                                     Suite D                                Baltimore, MD 21224</td>\\r\\n\\t\\t\\t\\t\\t\\t\\t  <td align=\"right\">3</td>\\r\\n\\t\\t\\t\\t\\t\\t\\t  <td align=\"right\">34</td>\\r\\n\\t\\t\\t\\t\\t\\t\\t  <td align=\"right\">3/30/2020</td>\\r\\n\\t\\t\\t\\t\\t\\t\\t  <td align=\"center\">2</td>\\r\\n\\t\\t\\t\\t\\t\\t    </tr>\\r\\n\\t\\t\\t\\t\\t\\t\\t<tr>\\r\\n\\t\\t\\t\\t\\t\\t\\t  <td>4/2/2020</td>\\r\\n\\t\\t\\t\\t\\t\\t\\t  <td>721110</td>\\r\\n\\t\\t\\t\\t\\t\\t\\t  <td>Four Seasons Hotel Baltimore</td>\\r\\n\\t\\t\\t\\t\\t\\t\\t  <td> \\t200 International Drive Baltimore, MD 21202</td>\\r\\n\\t\\t\\t\\t\\t\\t\\t  <td align=\"right\">3</td>\\r\\n\\t\\t\\t\\t\\t\\t\\t  <td align=\"right\">169</td>\\r\\n\\t\\t\\t\\t\\t\\t\\t  <td align=\"right\">3/23/2020</td>\\r\\n\\t\\t\\t\\t\\t\\t\\t    <td align=\"center\">2</td>\\r\\n\\t\\t\\t\\t\\t\\t    </tr>\\r\\n\\t\\t\\t\\t\\t\\t\\t<tr>\\r\\n\\t\\t\\t\\t\\t\\t\\t  <td>4/3/2020</td>\\r\\n\\t\\t\\t\\t\\t\\t\\t  <td>722511</td>\\r\\n\\t\\t\\t\\t\\t\\t\\t  <td>Benihana</td>\\r\\n\\t\\t\\t\\t\\t\\t\\t  <td>7935 Wisconsin Avenue Bethesda, MD 20814</td>\\r\\n\\t\\t\\t\\t\\t\\t\\t  <td align=\"right\">7</td>\\r\\n\\t\\t\\t\\t\\t\\t\\t  <td align=\"right\">43</td>\\r\\n\\t\\t\\t\\t\\t\\t\\t  <td align=\"right\">3/16/2020</td>\\r\\n\\t\\t\\t\\t\\t\\t\\t    <td align=\"center\">2</td>\\r\\n\\t\\t\\t\\t\\t\\t    </tr>\\r\\n\\t\\t\\t\\t\\t\\t\\t<tr>\\r\\n\\t\\t\\t\\t\\t\\t\\t  <td>4/3/2020</td>\\r\\n\\t\\t\\t\\t\\t\\t\\t  <td>493110</td>\\r\\n\\t\\t\\t\\t\\t\\t\\t  <td>Under Armour</td>\\r\\n\\t\\t\\t\\t\\t\\t\\t  <td>7030 Tradepoint Avenue           Edgemere, Md 21219</td>\\r\\n\\t\\t\\t\\t\\t\\t\\t  <td align=\"right\">2</td>\\r\\n\\t\\t\\t\\t\\t\\t\\t  <td align=\"right\">154</td>\\r\\n\\t\\t\\t\\t\\t\\t\\t  <td align=\"right\">4/12/2020</td>\\r\\n\\t\\t\\t\\t\\t\\t\\t  <td align=\"center\">1</td>\\r\\n\\t\\t\\t\\t\\t\\t    </tr>\\r\\n\\t\\t\\t\\t\\t\\t\\t<tr>\\r\\n\\t\\t\\t\\t\\t\\t\\t  <td>4/3/2020</td>\\r\\n\\t\\t\\t\\t\\t\\t\\t  <td>722511</td>\\r\\n\\t\\t\\t\\t\\t\\t\\t  <td>Bond 45</td>\\r\\n\\t\\t\\t\\t\\t\\t\\t  <td>  \\t149 Waterfront Street              National Harbor, MD 20745</td>\\r\\n\\t\\t\\t\\t\\t\\t\\t  <td align=\"right\">8</td>\\r\\n\\t\\t\\t\\t\\t\\t\\t  <td align=\"right\">62</td>\\r\\n\\t\\t\\t\\t\\t\\t\\t  <td align=\"right\">3/16/2020</td>\\r\\n\\t\\t\\t\\t\\t\\t\\t    <td align=\"center\">2</td>\\r\\n\\t\\t\\t\\t\\t\\t    </tr>\\r\\n\\t\\t\\t\\t\\t\\t\\t<tr>\\r\\n\\t\\t\\t\\t\\t\\t\\t  <td>4/6/2020</td>\\r\\n\\t\\t\\t\\t\\t\\t\\t  <td>531110</td>\\r\\n\\t\\t\\t\\t\\t\\t\\t  <td>Meta Coastal, LLC</td>\\r\\n\\t\\t\\t\\t\\t\\t\\t  <td>5200-B Coastal Highway             Ocean City, MD 21842</td>\\r\\n\\t\\t\\t\\t\\t\\t\\t  <td align=\"right\">5</td>\\r\\n\\t\\t\\t\\t\\t\\t\\t  <td align=\"right\">7</td>\\r\\n\\t\\t\\t\\t\\t\\t\\t  <td align=\"right\">3/20/2020</td>\\r\\n\\t\\t\\t\\t\\t\\t\\t    <td align=\"center\">2</td>\\r\\n\\t\\t\\t\\t\\t\\t    </tr>\\r\\n\\t\\t\\t\\t\\t\\t\\t<tr>\\r\\n\\t\\t\\t\\t\\t\\t\\t  <td>4/6/2020</td>\\r\\n\\t\\t\\t\\t\\t\\t\\t  <td>531110</td>\\r\\n\\t\\t\\t\\t\\t\\t\\t  <td>Meta Coastal, LLC</td>\\r\\n\\t\\t\\t\\t\\t\\t\\t  <td>16 N. Washington Street               Suite 102                                                        Easton, MD 21601</td>\\r\\n\\t\\t\\t\\t\\t\\t\\t  <td align=\"right\">11</td>\\r\\n\\t\\t\\t\\t\\t\\t\\t  <td align=\"right\">4</td>\\r\\n\\t\\t\\t\\t\\t\\t\\t  <td align=\"right\">3/20/2020</td>\\r\\n\\t\\t\\t\\t\\t\\t\\t    <td align=\"center\">2</td>\\r\\n\\t\\t\\t\\t\\t\\t    </tr>\\r\\n\\t\\t\\t\\t\\t\\t\\t<tr>\\r\\n\\t\\t\\t\\t\\t\\t\\t  <td>4/6/2020</td>\\r\\n\\t\\t\\t\\t\\t\\t\\t  <td>561720</td>\\r\\n\\t\\t\\t\\t\\t\\t\\t  <td>Meta Coastal, LLC</td>\\r\\n\\t\\t\\t\\t\\t\\t\\t  <td>350 N. Washington Street                      Easton, MD 21601</td>\\r\\n\\t\\t\\t\\t\\t\\t\\t  <td align=\"right\">11</td>\\r\\n\\t\\t\\t\\t\\t\\t\\t  <td align=\"right\">2</td>\\r\\n\\t\\t\\t\\t\\t\\t\\t  <td align=\"right\">3/20/2020</td>\\r\\n\\t\\t\\t\\t\\t\\t\\t    <td align=\"center\">2</td>\\r\\n\\t\\t\\t\\t\\t\\t    </tr>\\r\\n\\t\\t\\t\\t\\t\\t\\t<tr>\\r\\n\\t\\t\\t\\t\\t\\t\\t  <td>4/6/2020</td>\\r\\n\\t\\t\\t\\t\\t\\t\\t  <td>531311</td>\\r\\n\\t\\t\\t\\t\\t\\t\\t  <td>Meta Coastal, LLC</td>\\r\\n\\t\\t\\t\\t\\t\\t\\t  <td>12815 Coastal Highway                   Unit #104                        Ocean City, MD 21842</td>\\r\\n\\t\\t\\t\\t\\t\\t\\t  <td align=\"right\">5</td>\\r\\n\\t\\t\\t\\t\\t\\t\\t  <td align=\"right\">9</td>\\r\\n\\t\\t\\t\\t\\t\\t\\t  <td align=\"right\">3/20/2020</td>\\r\\n\\t\\t\\t\\t\\t\\t\\t    <td align=\"center\">2</td>\\r\\n\\t\\t\\t\\t\\t\\t    </tr>\\r\\n\\t\\t\\t\\t\\t\\t\\t<tr>\\r\\n\\t\\t\\t\\t\\t\\t\\t  <td>4/6/2020</td>\\r\\n\\t\\t\\t\\t\\t\\t\\t  <td>721110</td>\\r\\n\\t\\t\\t\\t\\t\\t\\t  <td>Meta Coastal, LLC</td>\\r\\n\\t\\t\\t\\t\\t\\t\\t  <td>19638 Garrett Highway             Oakland, MD 21150</td>\\r\\n\\t\\t\\t\\t\\t\\t\\t  <td align=\"right\">12</td>\\r\\n\\t\\t\\t\\t\\t\\t\\t  <td align=\"right\">8</td>\\r\\n\\t\\t\\t\\t\\t\\t\\t  <td align=\"right\">3/20/2020</td>\\r\\n\\t\\t\\t\\t\\t\\t\\t    <td align=\"center\">2</td>\\r\\n\\t\\t\\t\\t\\t\\t    </tr>\\r\\n\\t\\t\\t\\t\\t\\t\\t<tr>\\r\\n\\t\\t\\t\\t\\t\\t\\t  <td>4/6/2020</td>\\r\\n\\t\\t\\t\\t\\t\\t\\t  <td>541219</td>\\r\\n\\t\\t\\t\\t\\t\\t\\t  <td>Meta Coastal, LLC</td>\\r\\n\\t\\t\\t\\t\\t\\t\\t  <td>1404 Crain Highway South      Suite 101                                    Glen Burnie, MD 21061</td>\\r\\n\\t\\t\\t\\t\\t\\t\\t  <td align=\"right\">1</td>\\r\\n\\t\\t\\t\\t\\t\\t\\t  <td align=\"right\">42</td>\\r\\n\\t\\t\\t\\t\\t\\t\\t  <td align=\"right\">3/20/2020</td>\\r\\n\\t\\t\\t\\t\\t\\t\\t    <td align=\"center\">2</td>\\r\\n\\t\\t\\t\\t\\t\\t    </tr>\\r\\n\\t\\t\\t\\t\\t\\t\\t<tr>\\r\\n\\t\\t\\t\\t\\t\\t\\t  <td>4/8/2020</td>\\r\\n\\t\\t\\t\\t\\t\\t\\t  <td>448120</td>\\r\\n\\t\\t\\t\\t\\t\\t\\t  <td>RTW Retailwinds                                                            d/b/a Fashion to Figure</td>\\r\\n\\t\\t\\t\\t\\t\\t\\t  <td>Bowie Town Center                15402-B Emerald Way              Space 19A                         Bowie, MD 20716</td>\\r\\n\\t\\t\\t\\t\\t\\t\\t  <td align=\"right\">8</td>\\r\\n\\t\\t\\t\\t\\t\\t\\t  <td align=\"right\">8</td>\\r\\n\\t\\t\\t\\t\\t\\t\\t  <td align=\"right\">3/29/2020</td>\\r\\n\\t\\t\\t\\t\\t\\t\\t    <td align=\"center\">2</td>\\r\\n\\t\\t\\t\\t\\t\\t    </tr>\\r\\n\\t\\t\\t\\t\\t\\t\\t<tr>\\r\\n\\t\\t\\t\\t\\t\\t\\t  <td>4/8/2020</td>\\r\\n\\t\\t\\t\\t\\t\\t\\t  <td>448120</td>\\r\\n\\t\\t\\t\\t\\t\\t\\t  <td>RTW Retailwinds                                                            d/b/a Fashion to Figure</td>\\r\\n\\t\\t\\t\\t\\t\\t\\t  <td>Westview Mall                           5816 Baltimore National Pike          Catonsville, MD 21228</td>\\r\\n\\t\\t\\t\\t\\t\\t\\t  <td align=\"right\">2</td>\\r\\n\\t\\t\\t\\t\\t\\t\\t  <td align=\"right\">10</td>\\r\\n\\t\\t\\t\\t\\t\\t\\t  <td align=\"right\">3/29/2020</td>\\r\\n\\t\\t\\t\\t\\t\\t\\t    <td align=\"center\">2</td>\\r\\n\\t\\t\\t\\t\\t\\t    </tr>\\r\\n\\t\\t\\t\\t\\t\\t\\t<tr>\\r\\n\\t\\t\\t\\t\\t\\t\\t  <td>4/8/2020</td>\\r\\n\\t\\t\\t\\t\\t\\t\\t  <td>448120</td>\\r\\n\\t\\t\\t\\t\\t\\t\\t  <td>RTW Retailwinds                                                            d/b/a Fashion to Figure</td>\\r\\n\\t\\t\\t\\t\\t\\t\\t  <td>3317 Rosary Court                    Abingdon, MD 21009</td>\\r\\n\\t\\t\\t\\t\\t\\t\\t  <td align=\"right\">10</td>\\r\\n\\t\\t\\t\\t\\t\\t\\t  <td align=\"right\">1</td>\\r\\n\\t\\t\\t\\t\\t\\t\\t  <td align=\"right\">3/29/2020</td>\\r\\n\\t\\t\\t\\t\\t\\t\\t    <td align=\"center\">2</td>\\r\\n\\t\\t\\t\\t\\t\\t    </tr>\\r\\n\\t\\t\\t\\t\\t\\t\\t<tr>\\r\\n\\t\\t\\t\\t\\t\\t\\t  <td>4/8/2020</td>\\r\\n\\t\\t\\t\\t\\t\\t\\t  <td>448120</td>\\r\\n\\t\\t\\t\\t\\t\\t\\t  <td>RTW Retailwinds                                                            d/b/a New York  & Company</td>\\r\\n\\t\\t\\t\\t\\t\\t\\t  <td>Annapolis Mall                          2002 Annapolis Mall                Annapolis, Md 21401</td>\\r\\n\\t\\t\\t\\t\\t\\t\\t  <td align=\"right\">1</td>\\r\\n\\t\\t\\t\\t\\t\\t\\t  <td align=\"right\">19</td>\\r\\n\\t\\t\\t\\t\\t\\t\\t  <td align=\"right\">3/29/2020</td>\\r\\n\\t\\t\\t\\t\\t\\t\\t    <td align=\"center\">2</td>\\r\\n\\t\\t\\t\\t\\t\\t    </tr>\\r\\n\\t\\t\\t\\t\\t\\t\\t<tr>\\r\\n\\t\\t\\t\\t\\t\\t\\t  <td>4/8/2020</td>\\r\\n\\t\\t\\t\\t\\t\\t\\t  <td>448120</td>\\r\\n\\t\\t\\t\\t\\t\\t\\t  <td>RTW Retailwinds                                                            d/b/a New York  & Company</td>\\r\\n\\t\\t\\t\\t\\t\\t\\t  <td>Arunde Mills Mall                7000 Arundel Mills Circle               Hanover, MD 21076</td>\\r\\n\\t\\t\\t\\t\\t\\t\\t  <td align=\"right\">1</td>\\r\\n\\t\\t\\t\\t\\t\\t\\t  <td align=\"right\">12</td>\\r\\n\\t\\t\\t\\t\\t\\t\\t  <td align=\"right\">3/29/2020</td>\\r\\n\\t\\t\\t\\t\\t\\t\\t    <td align=\"center\">2</td>\\r\\n\\t\\t\\t\\t\\t\\t    </tr>\\r\\n\\t\\t\\t\\t\\t\\t\\t<tr>\\r\\n\\t\\t\\t\\t\\t\\t\\t  <td>4/8/2020</td>\\r\\n\\t\\t\\t\\t\\t\\t\\t  <td>448120</td>\\r\\n\\t\\t\\t\\t\\t\\t\\t  <td>RTW Retailwinds                                                            d/b/a New York  & Company</td>\\r\\n\\t\\t\\t\\t\\t\\t\\t  <td>Harford Mall                       696A Bel Air Road                 Bel Air, MD 21014</td>\\r\\n\\t\\t\\t\\t\\t\\t\\t  <td align=\"right\">10</td>\\r\\n\\t\\t\\t\\t\\t\\t\\t  <td align=\"right\">9</td>\\r\\n\\t\\t\\t\\t\\t\\t\\t  <td align=\"right\">3/29/2020</td>\\r\\n\\t\\t\\t\\t\\t\\t\\t    <td align=\"center\">2</td>\\r\\n\\t\\t\\t\\t\\t\\t    </tr>\\r\\n\\t\\t\\t\\t\\t\\t\\t<tr>\\r\\n\\t\\t\\t\\t\\t\\t\\t  <td>4/8/2020</td>\\r\\n\\t\\t\\t\\t\\t\\t\\t  <td>448120</td>\\r\\n\\t\\t\\t\\t\\t\\t\\t  <td>RTW Retailwinds                                                            d/b/a New York  & Company</td>\\r\\n\\t\\t\\t\\t\\t\\t\\t  <td>Bowie Town Center                   15443 Emerald Way                Bowie, MD 20716</td>\\r\\n\\t\\t\\t\\t\\t\\t\\t  <td align=\"right\">8</td>\\r\\n\\t\\t\\t\\t\\t\\t\\t  <td align=\"right\">16</td>\\r\\n\\t\\t\\t\\t\\t\\t\\t  <td align=\"right\">3/29/2020</td>\\r\\n\\t\\t\\t\\t\\t\\t\\t    <td align=\"center\">2</td>\\r\\n\\t\\t\\t\\t\\t\\t    </tr>\\r\\n\\t\\t\\t\\t\\t\\t\\t<tr>\\r\\n\\t\\t\\t\\t\\t\\t\\t  <td>4/8/2020</td>\\r\\n\\t\\t\\t\\t\\t\\t\\t  <td>448120</td>\\r\\n\\t\\t\\t\\t\\t\\t\\t  <td>RTW Retailwinds                                                            d/b/a New York  & Company</td>\\r\\n\\t\\t\\t\\t\\t\\t\\t  <td>Columbia Mall                         10300 Little Patuxent Parkway       Columbia, MD 21044</td>\\r\\n\\t\\t\\t\\t\\t\\t\\t  <td align=\"right\">6</td>\\r\\n\\t\\t\\t\\t\\t\\t\\t  <td align=\"right\">31</td>\\r\\n\\t\\t\\t\\t\\t\\t\\t  <td align=\"right\">3/29/2020</td>\\r\\n\\t\\t\\t\\t\\t\\t\\t    <td align=\"center\">2</td>\\r\\n\\t\\t\\t\\t\\t\\t    </tr>\\r\\n\\t\\t\\t\\t\\t\\t\\t<tr>\\r\\n\\t\\t\\t\\t\\t\\t\\t  <td>4/8/2020</td>\\r\\n\\t\\t\\t\\t\\t\\t\\t  <td>448120</td>\\r\\n\\t\\t\\t\\t\\t\\t\\t  <td>RTW Retailwinds                                                            d/b/a New York  & Company</td>\\r\\n\\t\\t\\t\\t\\t\\t\\t  <td>Hagerstown Premium Outlets   495 Premium Outlel Blvd.            Hagerstown, MD 21740</td>\\r\\n\\t\\t\\t\\t\\t\\t\\t  <td align=\"right\">12</td>\\r\\n\\t\\t\\t\\t\\t\\t\\t  <td align=\"right\">12</td>\\r\\n\\t\\t\\t\\t\\t\\t\\t  <td align=\"right\">3/29/2020</td>\\r\\n\\t\\t\\t\\t\\t\\t\\t    <td align=\"center\">2</td>\\r\\n\\t\\t\\t\\t\\t\\t    </tr>\\r\\n\\t\\t\\t\\t\\t\\t\\t<tr>\\r\\n\\t\\t\\t\\t\\t\\t\\t  <td>4/8/2020</td>\\r\\n\\t\\t\\t\\t\\t\\t\\t  <td>448120</td>\\r\\n\\t\\t\\t\\t\\t\\t\\t  <td>RTW Retailwinds                                                            d/b/a New York  & Company</td>\\r\\n\\t\\t\\t\\t\\t\\t\\t  <td>Marley Station Mall                  7900 Ritchie Highway                     Suite E205                                              Glen Burnie, MD 21061</td>\\r\\n\\t\\t\\t\\t\\t\\t\\t  <td align=\"right\">1</td>\\r\\n\\t\\t\\t\\t\\t\\t\\t  <td align=\"right\">10</td>\\r\\n\\t\\t\\t\\t\\t\\t\\t  <td align=\"right\">3/29/2020</td>\\r\\n\\t\\t\\t\\t\\t\\t\\t    <td align=\"center\">2</td>\\r\\n\\t\\t\\t\\t\\t\\t    </tr>\\r\\n\\t\\t\\t\\t\\t\\t\\t<tr>\\r\\n\\t\\t\\t\\t\\t\\t\\t  <td>4/8/2020</td>\\r\\n\\t\\t\\t\\t\\t\\t\\t  <td>448120</td>\\r\\n\\t\\t\\t\\t\\t\\t\\t  <td>RTW Retailwinds                                                            d/b/a New York  & Company</td>\\r\\n\\t\\t\\t\\t\\t\\t\\t  <td>National Harbor                        6800 Oxon Hill Road                National Harbor, MD 20745</td>\\r\\n\\t\\t\\t\\t\\t\\t\\t  <td align=\"right\">8</td>\\r\\n\\t\\t\\t\\t\\t\\t\\t  <td align=\"right\">16</td>\\r\\n\\t\\t\\t\\t\\t\\t\\t  <td align=\"right\">3/29/2020</td>\\r\\n\\t\\t\\t\\t\\t\\t\\t    <td align=\"center\">2</td>\\r\\n\\t\\t\\t\\t\\t\\t    </tr>\\r\\n\\t\\t\\t\\t\\t\\t\\t<tr>\\r\\n\\t\\t\\t\\t\\t\\t\\t  <td>4/8/2020</td>\\r\\n\\t\\t\\t\\t\\t\\t\\t  <td>448120</td>\\r\\n\\t\\t\\t\\t\\t\\t\\t  <td>RTW Retailwinds                                                            d/b/a New York  & Company</td>\\r\\n\\t\\t\\t\\t\\t\\t\\t  <td>Centre at Salisbury                        2300 N. Salisbury Blvd.             Salisbury, MD 21801</td>\\r\\n\\t\\t\\t\\t\\t\\t\\t  <td align=\"right\">5</td>\\r\\n\\t\\t\\t\\t\\t\\t\\t  <td align=\"right\">10</td>\\r\\n\\t\\t\\t\\t\\t\\t\\t  <td align=\"right\">3/29/2020</td>\\r\\n\\t\\t\\t\\t\\t\\t\\t    <td align=\"center\">2</td>\\r\\n\\t\\t\\t\\t\\t\\t    </tr>\\r\\n\\t\\t\\t\\t\\t\\t\\t<tr>\\r\\n\\t\\t\\t\\t\\t\\t\\t  <td>4/8/2020</td>\\r\\n\\t\\t\\t\\t\\t\\t\\t  <td>448120</td>\\r\\n\\t\\t\\t\\t\\t\\t\\t  <td>RTW Retailwinds                                                            d/b/a New York  & Company</td>\\r\\n\\t\\t\\t\\t\\t\\t\\t  <td>Downtown Silver Spring            937 Ellsworth Drive                Silver Spring, MD 20910</td>\\r\\n\\t\\t\\t\\t\\t\\t\\t  <td align=\"right\">7</td>\\r\\n\\t\\t\\t\\t\\t\\t\\t  <td align=\"right\">29</td>\\r\\n\\t\\t\\t\\t\\t\\t\\t  <td align=\"right\">3/29/2020</td>\\r\\n\\t\\t\\t\\t\\t\\t\\t    <td align=\"center\">2</td>\\r\\n\\t\\t\\t\\t\\t\\t    </tr>\\r\\n\\t\\t\\t\\t\\t\\t\\t<tr>\\r\\n\\t\\t\\t\\t\\t\\t\\t  <td>4/8/2020</td>\\r\\n\\t\\t\\t\\t\\t\\t\\t  <td>448120</td>\\r\\n\\t\\t\\t\\t\\t\\t\\t  <td>RTW Retailwinds                                                            d/b/a New York  & Company</td>\\r\\n\\t\\t\\t\\t\\t\\t\\t  <td>Towson Town Center                  825 Dulaney Valley Road           Towson, MD 21204</td>\\r\\n\\t\\t\\t\\t\\t\\t\\t  <td align=\"right\">2</td>\\r\\n\\t\\t\\t\\t\\t\\t\\t  <td align=\"right\">23</td>\\r\\n\\t\\t\\t\\t\\t\\t\\t  <td align=\"right\">3/29/2020</td>\\r\\n\\t\\t\\t\\t\\t\\t\\t    <td align=\"center\">2</td>\\r\\n\\t\\t\\t\\t\\t\\t    </tr>\\r\\n\\t\\t\\t\\t\\t\\t\\t<tr>\\r\\n\\t\\t\\t\\t\\t\\t\\t  <td>4/8/2020</td>\\r\\n\\t\\t\\t\\t\\t\\t\\t  <td>448120</td>\\r\\n\\t\\t\\t\\t\\t\\t\\t  <td>RTW Retailwinds                                                            d/b/a New York  & Company</td>\\r\\n\\t\\t\\t\\t\\t\\t\\t  <td>St. Charles Town Center                  11110 Mall Circle                     Waldorf, MD 20603</td>\\r\\n\\t\\t\\t\\t\\t\\t\\t  <td align=\"right\">9</td>\\r\\n\\t\\t\\t\\t\\t\\t\\t  <td align=\"right\">17</td>\\r\\n\\t\\t\\t\\t\\t\\t\\t  <td align=\"right\">3/29/2020</td>\\r\\n\\t\\t\\t\\t\\t\\t\\t    <td align=\"center\">2</td>\\r\\n\\t\\t\\t\\t\\t\\t    </tr>\\r\\n\\t\\t\\t\\t\\t\\t\\t<tr>\\r\\n\\t\\t\\t\\t\\t\\t\\t  <td>4/8/2020</td>\\r\\n\\t\\t\\t\\t\\t\\t\\t  <td>448120</td>\\r\\n\\t\\t\\t\\t\\t\\t\\t  <td>RTW Retailwinds                                                            d/b/a New York  & Company</td>\\r\\n\\t\\t\\t\\t\\t\\t\\t  <td>TownMall of Westminster                    400 North Center Street               Westminster, MD 21157</td>\\r\\n\\t\\t\\t\\t\\t\\t\\t  <td align=\"right\">6</td>\\r\\n\\t\\t\\t\\t\\t\\t\\t  <td align=\"right\">6</td>\\r\\n\\t\\t\\t\\t\\t\\t\\t  <td align=\"right\">3/29/2020</td>\\r\\n\\t\\t\\t\\t\\t\\t\\t    <td align=\"center\">2</td>\\r\\n\\t\\t\\t\\t\\t\\t    </tr>\\r\\n\\t\\t\\t\\t\\t\\t\\t<tr>\\r\\n\\t\\t\\t\\t\\t\\t\\t  <td>4/8/2020</td>\\r\\n\\t\\t\\t\\t\\t\\t\\t  <td>448120</td>\\r\\n\\t\\t\\t\\t\\t\\t\\t  <td>RTW Retailwinds                                                            d/b/a New York  & Company</td>\\r\\n\\t\\t\\t\\t\\t\\t\\t  <td>Wheaton Mall                         11160 Veirs Mill Road Wheaton, MD 20902</td>\\r\\n\\t\\t\\t\\t\\t\\t\\t  <td align=\"right\">7</td>\\r\\n\\t\\t\\t\\t\\t\\t\\t  <td align=\"right\">17</td>\\r\\n\\t\\t\\t\\t\\t\\t\\t  <td align=\"right\">3/29/2020</td>\\r\\n\\t\\t\\t\\t\\t\\t\\t    <td align=\"center\">2</td>\\r\\n\\t\\t\\t\\t\\t\\t    </tr>\\r\\n\\t\\t\\t\\t\\t\\t\\t<tr>\\r\\n\\t\\t\\t\\t\\t\\t\\t  <td>4/8/2020</td>\\r\\n\\t\\t\\t\\t\\t\\t\\t  <td>448120</td>\\r\\n\\t\\t\\t\\t\\t\\t\\t  <td>RTW Retailwinds                                                            d/b/a New York  & Company</td>\\r\\n\\t\\t\\t\\t\\t\\t\\t  <td>White Marsh Mall                                8200 Perry Hall Blvd.                              Baltimore, MD 21236</td>\\r\\n\\t\\t\\t\\t\\t\\t\\t  <td align=\"right\">2</td>\\r\\n\\t\\t\\t\\t\\t\\t\\t  <td align=\"right\">17</td>\\r\\n\\t\\t\\t\\t\\t\\t\\t  <td align=\"right\">3/29/2020</td>\\r\\n\\t\\t\\t\\t\\t\\t\\t    <td align=\"center\">2</td>\\r\\n\\t\\t\\t\\t\\t\\t    </tr>\\r\\n\\t\\t\\t\\t\\t\\t\\t<tr>\\r\\n\\t\\t\\t\\t\\t\\t\\t  <td>4/9/2020</td>\\r\\n\\t\\t\\t\\t\\t\\t\\t  <td>711110</td>\\r\\n\\t\\t\\t\\t\\t\\t\\t  <td>Medieval Times</td>\\r\\n\\t\\t\\t\\t\\t\\t\\t  <td>7000 Arundel Mills Circle                 Hanover, MD 21076</td>\\r\\n\\t\\t\\t\\t\\t\\t\\t  <td align=\"right\">1</td>\\r\\n\\t\\t\\t\\t\\t\\t\\t  <td align=\"right\">146</td>\\r\\n\\t\\t\\t\\t\\t\\t\\t  <td align=\"right\">4/12/2020</td>\\r\\n\\t\\t\\t\\t\\t\\t\\t    <td align=\"center\">2</td>\\r\\n\\t\\t\\t\\t\\t\\t    </tr>\\r\\n\\t\\t\\t\\t\\t\\t\\t<tr>\\r\\n\\t\\t\\t\\t\\t\\t\\t  <td>4/6/2020</td>\\r\\n\\t\\t\\t\\t\\t\\t\\t  <td>448310</td>\\r\\n\\t\\t\\t\\t\\t\\t\\t  <td>The Silver Heron</td>\\r\\n\\t\\t\\t\\t\\t\\t\\t  <td>The Mall at Columbia         10300 Little Patuxent Parkway Columbia, MD 21044</td>\\r\\n\\t\\t\\t\\t\\t\\t\\t  <td align=\"right\">6</td>\\r\\n\\t\\t\\t\\t\\t\\t\\t  <td align=\"right\">4</td>\\r\\n\\t\\t\\t\\t\\t\\t\\t  <td align=\"right\">4/4/2020</td>\\r\\n\\t\\t\\t\\t\\t\\t\\t    <td align=\"center\">2</td>\\r\\n\\t\\t\\t\\t\\t\\t    </tr>\\r\\n\\t\\t\\t\\t\\t\\t\\t<tr>\\r\\n\\t\\t\\t\\t\\t\\t\\t  <td>4/6/2020</td>\\r\\n\\t\\t\\t\\t\\t\\t\\t  <td>448310</td>\\r\\n\\t\\t\\t\\t\\t\\t\\t  <td>Pandora</td>\\r\\n\\t\\t\\t\\t\\t\\t\\t  <td>St. Charles Towne Center            11110 Mall Circle                   Waldorf, MD 20603</td>\\r\\n\\t\\t\\t\\t\\t\\t\\t  <td align=\"right\">9</td>\\r\\n\\t\\t\\t\\t\\t\\t\\t  <td align=\"right\">10</td>\\r\\n\\t\\t\\t\\t\\t\\t\\t  <td align=\"right\">4/4/2020</td>\\r\\n\\t\\t\\t\\t\\t\\t\\t    <td align=\"center\">2</td>\\r\\n\\t\\t\\t\\t\\t\\t    </tr>\\r\\n\\t\\t\\t\\t\\t\\t\\t<tr>\\r\\n\\t\\t\\t\\t\\t\\t\\t  <td>4/6/2020</td>\\r\\n\\t\\t\\t\\t\\t\\t\\t  <td>448310</td>\\r\\n\\t\\t\\t\\t\\t\\t\\t  <td>Pandora</td>\\r\\n\\t\\t\\t\\t\\t\\t\\t  <td>The Mall at Columbia         10300 Little Patuxent Parkway Columbia, MD 21044</td>\\r\\n\\t\\t\\t\\t\\t\\t\\t  <td align=\"right\">6</td>\\r\\n\\t\\t\\t\\t\\t\\t\\t  <td align=\"right\">17</td>\\r\\n\\t\\t\\t\\t\\t\\t\\t  <td align=\"right\">4/4/2020</td>\\r\\n\\t\\t\\t\\t\\t\\t\\t    <td align=\"center\">2</td>\\r\\n\\t\\t\\t\\t\\t\\t    </tr>\\r\\n\\t\\t\\t\\t\\t\\t\\t<tr>\\r\\n\\t\\t\\t\\t\\t\\t\\t  <td>4/6/2020</td>\\r\\n\\t\\t\\t\\t\\t\\t\\t  <td>448310</td>\\r\\n\\t\\t\\t\\t\\t\\t\\t  <td>Pandora</td>\\r\\n\\t\\t\\t\\t\\t\\t\\t  <td>The Gallery at Harborplace                300 East Pratt Street                  Baltimore, MD 21202</td>\\r\\n\\t\\t\\t\\t\\t\\t\\t  <td align=\"right\">3</td>\\r\\n\\t\\t\\t\\t\\t\\t\\t  <td align=\"right\">7</td>\\r\\n\\t\\t\\t\\t\\t\\t\\t  <td align=\"right\">4/4/2020</td>\\r\\n\\t\\t\\t\\t\\t\\t\\t    <td align=\"center\">2</td>\\r\\n\\t\\t\\t\\t\\t\\t    </tr>\\r\\n\\t\\t\\t\\t\\t\\t\\t<tr>\\r\\n\\t\\t\\t\\t\\t\\t\\t  <td>4/13/2020</td>\\r\\n\\t\\t\\t\\t\\t\\t\\t  <td>713910</td>\\r\\n\\t\\t\\t\\t\\t\\t\\t  <td>The Bethesda Country Club</td>\\r\\n\\t\\t\\t\\t\\t\\t\\t  <td>7601 Bradley Boulevard              Bethesda, MD 20817</td>\\r\\n\\t\\t\\t\\t\\t\\t\\t  <td align=\"right\">7</td>\\r\\n\\t\\t\\t\\t\\t\\t\\t  <td align=\"right\">128</td>\\r\\n\\t\\t\\t\\t\\t\\t\\t  <td align=\"right\">3/26/2020</td>\\r\\n\\t\\t\\t\\t\\t\\t\\t    <td align=\"center\">2</td>\\r\\n\\t\\t\\t\\t\\t\\t    </tr>\\r\\n\\r\\n\\r\\n                          </table>\\r\\n                          <br>\\r\\n<div id=\"accordion\">\\r\\n  <h3>Work Adjustment and Retraining Notifications (WARN)</h3>\\r\\n<div>\\r\\n\\t<ul>\\r\\n       <li><a class=\"sub\" href=\"warn.shtml\">2020</a></li>\\r\\n\\t   <li><a class=\"sub\" href=\"warn2019.shtml\">2019</a></li>\\r\\n       <li><a class=\"sub\" href=\"warn2018.shtml\">2018</a></li>\\r\\n\\t   <li><a class=\"sub\" href=\"warn2017.shtml\">2017</a></li>\\r\\n\\t   <li><a class=\"sub\" href=\"warn2016.shtml\">2016</a></li>\\r\\n\\t   <li><a class=\"sub\" href=\"warn2015.shtml\">2015</a></li>\\r\\n\\t   <li><a class=\"sub\" href=\"warn2014.shtml\">2014</a></li>\\r\\n\\t   <li><a class=\"sub\" href=\"warn2013.shtml\">2013</a></li>\\r\\n\\t   <li><a class=\"sub\" href=\"warn2012.shtml\">2012</a></li>\\r\\n\\t   <li><a class=\"sub\" href=\"warn2011.shtml\">2011</a></li>\\r\\n\\t   <li><a class=\"sub\" href=\"warn2010.shtml\">2010</a></li>\\r\\n\\t  </ul>\\r\\n</div>\\r\\n</div>\\r\\n\\r\\n                      </div>\\r\\n                    </div>\\r\\n                </div>\\r\\n            </div>\\r\\n            <div class=\"row-fluid\">\\r\\n                <div id=\"footer_block\" class=\"clearfix\">\\r\\n                          <div class=\"span9\">\\r\\n                        <div id=\"footer_left\">\\r\\n                            <div class=\"cl_base_hNav footerLinks\">\\r\\n                                <!-- Step 12: Add agency footer links -->\\r\\n                                <ul>\\r\\n                                  <li><a href=\"../contactinfo/\">Contact Us</a></li>\\r\\n                      \\t\\t\\t  <li><a href=\"../aboutdllr/privacystatement.shtml\">Privacy</a></li>\\r\\n                      \\t\\t\\t  <li><a href=\"http://www.maryland.gov/pages/accessibility.aspx\">Accessibility</a></li> \\r\\n                                  <li><a href=\"../oeope/poster.shtml\">Posters</a></li> \\r\\n                                  <li><a href=\"../aboutdllr/mpia.shtml\">MPIA</a></li> \\r\\n                                  <li><a href=\"https://elections.maryland.gov/voter_registration/\" target=\"_blank\">Register to Vote</a></li>\\r\\n                      \\t\\t\\t  <li><a href=\"../spanish/\"><span lang=\"es\">Ayuda en espa&ntilde;ol</span></a></li>\\r\\n                                </ul>\\r\\n                            </div>\\r\\n                            <!-- Step 13 : Add agency address and phone -->\\r\\n                            <p>500 North Calvert Street, Baltimore, MD 21202</p>\\r\\n                        </div>\\r\\n                    </div>\\r\\n                    <div class=\"span3\">\\r\\n                        <div id=\"footer_right\" class=\"clearfix\">\\r\\n                            <div class=\"mdgov_socialNav\">\\r\\n                                <!-- Step 6 : configure footer social media icons and links -->\\r\\n                                <ul class=\"cl_base_hNav cl_socialNav\">\\r\\n                                    <li><a href=\"https://www.facebook.com/MarylandLabor\" class=\"sm-facebook\" title=\"Facebook\">Facebook</a></li>\\r\\n                            \\t    <li><a href=\"https://twitter.com/@MD_Labor\" class=\"sm-twitter\" title=\"Twitter\">Twitter</a></li>\\r\\n                                    <li><a href=\"https://www.youtube.com/playlist?list=PLAF971858A68E4949\" class=\"sm-youtube\" title=\"YouTube\">YouTube</a></li>\\r\\n                                    <li><a href=\"http://www.maryland.gov/pages/social_media.aspx\" class=\"sm-all\" title=\"MD Social Media Directory\">MD Social Media Directory</a></li>\\r\\n                                </ul>\\r\\n                                <!--if no Agency social media,replace above UL with code below-->\\r\\n\\t\\t\\t\\t\\t\\t\\t\\t<!--<ul class=\"cl_base_hNav cl_socialNavDirectory\">\\r\\n                            \\t    <li><a href=\"http://www.maryland.gov/pages/social_media.aspx\" class=\"sm-directory\" title=\"MD Social Media Directory\">MD Social Media Directory</a></li>\\r\\n                        \\t\\t</ul>-->\\r\\n                            </div>\\r\\n                        </div>\\r\\n                    </div>\\r\\n                </div>\\r\\n            </div>\\r\\n        </div>\\r\\n    </div>\\r\\n    <script src=\"../egov/js/base.js\"></script>\\r\\n</div></body>\\r\\n</html>\\r\\n'"
      ]
     },
     "execution_count": 12,
     "metadata": {},
     "output_type": "execute_result"
    }
   ],
   "source": [
    "warn_page.text"
   ]
  },
  {
   "cell_type": "markdown",
   "metadata": {},
   "source": [
    "### ✍️ Try it yourself\n",
    "\n",
    "Use the code blocks below to experiment with requesting web pages and checking out the HTML that gets returned.\n",
    "\n",
    "Some ideas to get you started:\n",
    "- `'http://ire.org'`\n",
    "- `'https://web.archive.org/web/20031202214318/http://www.tdcj.state.tx.us:80/stat/finalmeals.htm'`\n",
    "- `'https://www.nrc.gov/reactors/operating/list-power-reactor-units.html'`"
   ]
  },
  {
   "cell_type": "code",
   "execution_count": 16,
   "metadata": {},
   "outputs": [],
   "source": [
    "url2 = 'https://web.archive.org/web/20031202214318/http://www.tdcj.state.tx.us:80/stat/finalmeals.htm'"
   ]
  },
  {
   "cell_type": "code",
   "execution_count": 17,
   "metadata": {},
   "outputs": [],
   "source": [
    "response = requests.get(url2)"
   ]
  },
  {
   "cell_type": "code",
   "execution_count": null,
   "metadata": {},
   "outputs": [],
   "source": []
  },
  {
   "cell_type": "code",
   "execution_count": null,
   "metadata": {},
   "outputs": [],
   "source": []
  },
  {
   "cell_type": "code",
   "execution_count": null,
   "metadata": {},
   "outputs": [],
   "source": []
  },
  {
   "cell_type": "markdown",
   "metadata": {},
   "source": [
    "### Turn your HTML into soup\n",
    "\n",
    "The HTML in the `.text` attribute of the request object is just a string -- a big ol' chunk of text.\n",
    "\n",
    "Before we start targeting and extracting pieces of data in the HTML, we need to turn that chunk of text into a data structure that Python can work with. That's where the [BeautifulSoup](https://www.crummy.com/software/BeautifulSoup/bs4/doc/) (`bs4`) library comes in.\n",
    "\n",
    "We'll create a new instance of a `BeautifulSoup` object, which lives under the top-level `bs4` library that we imported earlier. We need to give it two things:\n",
    "- The HTML we'd like to parse -- `warn_page.text`\n",
    "- A string with the name of the type of parser to use -- `html.parser` is the default and usually fine, but [there are other options](https://www.crummy.com/software/BeautifulSoup/bs4/doc/#installing-a-parser)\n",
    "\n",
    "We'll save the parsed HTML as a new variable, `soup`."
   ]
  },
  {
   "cell_type": "code",
   "execution_count": 19,
   "metadata": {},
   "outputs": [],
   "source": [
    "soup = bs4.BeautifulSoup(warn_page.text, 'html.parser')"
   ]
  },
  {
   "cell_type": "code",
   "execution_count": 22,
   "metadata": {},
   "outputs": [
    {
     "data": {
      "text/plain": [
       "str"
      ]
     },
     "execution_count": 22,
     "metadata": {},
     "output_type": "execute_result"
    }
   ],
   "source": [
    "type(warn_page.text)"
   ]
  },
  {
   "cell_type": "markdown",
   "metadata": {},
   "source": [
    "Nothing happened, which is good! You can take a look at what `soup` is, but it looks pretty much like `warn_page.text`, except a bit easier to read:"
   ]
  },
  {
   "cell_type": "code",
   "execution_count": 23,
   "metadata": {},
   "outputs": [
    {
     "data": {
      "text/plain": [
       "bs4.BeautifulSoup"
      ]
     },
     "execution_count": 23,
     "metadata": {},
     "output_type": "execute_result"
    }
   ],
   "source": [
    "type(soup)"
   ]
  },
  {
   "cell_type": "markdown",
   "metadata": {},
   "source": [
    "If you want to be sure, you can use the Python function `type()` to check what sort of object you're dealing with:"
   ]
  },
  {
   "cell_type": "code",
   "execution_count": 9,
   "metadata": {},
   "outputs": [
    {
     "data": {
      "text/plain": [
       "str"
      ]
     },
     "execution_count": 9,
     "metadata": {},
     "output_type": "execute_result"
    }
   ],
   "source": [
    "# the `str` type means a string, or text\n",
    "type(warn_page.text)"
   ]
  },
  {
   "cell_type": "code",
   "execution_count": 10,
   "metadata": {},
   "outputs": [
    {
     "data": {
      "text/plain": [
       "bs4.BeautifulSoup"
      ]
     },
     "execution_count": 10,
     "metadata": {},
     "output_type": "execute_result"
    }
   ],
   "source": [
    "# the `bs4.BeautifulSoup` type means we successfully created the object\n",
    "type(soup)"
   ]
  },
  {
   "cell_type": "markdown",
   "metadata": {},
   "source": [
    "### ✍️ Try it yourself\n",
    "\n",
    "Use the code blocks below to experiment fetching HTML and turning it into soup (if you fetched some pages earlier and saved them as variables, that'd be a good start)."
   ]
  },
  {
   "cell_type": "code",
   "execution_count": null,
   "metadata": {},
   "outputs": [],
   "source": []
  },
  {
   "cell_type": "code",
   "execution_count": null,
   "metadata": {},
   "outputs": [],
   "source": []
  },
  {
   "cell_type": "code",
   "execution_count": null,
   "metadata": {},
   "outputs": [],
   "source": []
  },
  {
   "cell_type": "code",
   "execution_count": null,
   "metadata": {},
   "outputs": [],
   "source": []
  },
  {
   "cell_type": "code",
   "execution_count": null,
   "metadata": {},
   "outputs": [],
   "source": []
  },
  {
   "cell_type": "markdown",
   "metadata": {},
   "source": [
    "### Target and extract the data\n",
    "\n",
    "Now that we have BeautifulSoup object loaded up, we can go hunting for the specific HTML elements that contain the data we need. Our general strategy:\n",
    "1. Find the main table with the data we want to grab\n",
    "2. Get a list of rows (the `tr` element, which stands for \"table row\") in that table\n",
    "3. Use a Python `for loop` to go through each table row and find the data inside it (`td`, or \"table data\")\n",
    "\n",
    "To accomplish this, we'll use two `bs4` methods:\n",
    "- [`find()`](https://www.crummy.com/software/BeautifulSoup/bs4/doc/#find), which returns the first element that matches whatever criteria you hand it\n",
    "- [`find_all()`](https://www.crummy.com/software/BeautifulSoup/bs4/doc/#find-all), which returns a _list_ of elements that match the criteria. ([Here's how Python lists work](Python%20syntax%20cheat%20sheet.ipynb#Lists).)"
   ]
  },
  {
   "cell_type": "markdown",
   "metadata": {},
   "source": [
    "#### Find the table\n",
    "\n",
    "To start with, we need to find the table. There are several ways to accomplish this, but because this is the only table on the page (view source and `Ctrl+F` to search for `<table` to confirm), we can simply say, \"Look through the `soup` object and find the table tag.\"\n",
    "\n",
    "Translated, the code is: `soup.find('table')`. While we're at it, save the results of that search to a new variable, `table`.\n",
    "\n",
    "Run these cells:"
   ]
  },
  {
   "cell_type": "code",
   "execution_count": 24,
   "metadata": {},
   "outputs": [],
   "source": [
    "table = soup.find('table')"
   ]
  },
  {
   "cell_type": "code",
   "execution_count": 26,
   "metadata": {},
   "outputs": [
    {
     "data": {
      "text/plain": [
       "bs4.element.Tag"
      ]
     },
     "execution_count": 26,
     "metadata": {},
     "output_type": "execute_result"
    }
   ],
   "source": [
    "type(table)"
   ]
  },
  {
   "cell_type": "markdown",
   "metadata": {},
   "source": [
    "#### Find the rows in the table\n",
    "\n",
    "Next, use the `find_all()` method to drill down and get a list of rows in the table:"
   ]
  },
  {
   "cell_type": "code",
   "execution_count": 27,
   "metadata": {},
   "outputs": [],
   "source": [
    "rows = table.find_all('tr')"
   ]
  },
  {
   "cell_type": "code",
   "execution_count": 32,
   "metadata": {},
   "outputs": [],
   "source": [
    "# rows"
   ]
  },
  {
   "cell_type": "markdown",
   "metadata": {},
   "source": [
    "To see how many items are in this list -- in other words, how many rows are in the table -- you can use the `len()` function:"
   ]
  },
  {
   "cell_type": "code",
   "execution_count": 33,
   "metadata": {},
   "outputs": [
    {
     "data": {
      "text/plain": [
       "79"
      ]
     },
     "execution_count": 33,
     "metadata": {},
     "output_type": "execute_result"
    }
   ],
   "source": [
    "len(rows)"
   ]
  },
  {
   "cell_type": "markdown",
   "metadata": {},
   "source": [
    "#### Loop through the rows and extract the data\n",
    "\n",
    "Next, we can use a [`for` loop](Python%20syntax%20cheat%20sheet.ipynb#for-loops) to go through the list of rows and start grabbing data from each one.\n",
    "\n",
    "Quick refresher on _for loop_ syntax: Start with the word `for` (lowercase), then a variable name to stand in for each item in the list that you're looping over, then the word `in` (lowercase), then the name of the list holding the items (`rows`, in our case), then a colon, then an indented block of code describing what we're doing to each item in the list.\n",
    "\n",
    "Each piece of data in the row will be stored in a `td` tag, which stands for \"table data.\" So inside the loop -- in the indented block -- we'll use the `find_all()` method to get a list of every `td` tag inside the row. And from there, we can access the content inside each tag.\n",
    "\n",
    "Our goal is to end up with a _list_ of data for each row that we will eventually write out to a file. Typically you'd probably do the work of looping and inspecting the results, step by step, in one code cell. But to show the thinking of how you might approach this (and to practice the syntax), we'll start by just printing out each row and then build from there. (`print('='*80)` will print a line of 80 equals signs -- a way to help us see exactly what we're working with in each row.)"
   ]
  },
  {
   "cell_type": "code",
   "execution_count": 51,
   "metadata": {},
   "outputs": [],
   "source": [
    "for row in rows:\n",
    "    #print(row)\n",
    "    #print('='*80)  # prints a divider line for easier visibility\n",
    "    pass"
   ]
  },
  {
   "cell_type": "markdown",
   "metadata": {},
   "source": [
    "Notice that the first item that prints is the header row with the column labels. You are free to keep these headers if you want, but I typically skip that row and define my own list of column names.\n",
    "\n",
    "(Another thing to consider: On better-constructed web pages, the cells in the header row will be represented by `th` (\"table header\") tags, not `td` (\"table data\") tags. The next step in our `for` loop is, \"Find all of the `td` tags in this row,\" so that would be something you would need to deal with.)\n",
    "\n",
    "We can skip the first row by using _list slicing_: adding square brackets after the name of the list with some instructions about which items in the list we want to select.\n",
    "\n",
    "Here, the syntax would be: `rows[1:]`, which means, take everything in the `rows` list starting with the item in position 1 (the second item) to the end of the list. Like many programming languages, Python starts counting at 0, so the result will leave off the first item in the list -- i.e. the item in position 0, i.e. the headers."
   ]
  },
  {
   "cell_type": "code",
   "execution_count": 37,
   "metadata": {},
   "outputs": [],
   "source": [
    "for row in rows[1:]:\n",
    "    #print(row)\n",
    "    #print('='*80)\n",
    "    pass"
   ]
  },
  {
   "cell_type": "markdown",
   "metadata": {},
   "source": [
    "Now we're cooking with gas! Now that we've isolated the rows we want, let's start pulling the data out of each row. Start by using `find_all()` to grab a list of `td` tags:"
   ]
  },
  {
   "cell_type": "code",
   "execution_count": 39,
   "metadata": {},
   "outputs": [],
   "source": [
    "for row in rows[1:]:\n",
    "    cells = row.find_all('td')\n",
    "    #print(cells)\n",
    "    #print('='*80)"
   ]
  },
  {
   "cell_type": "markdown",
   "metadata": {},
   "source": [
    "Now we have, for each row, a _list_ of `td` tags. Next step is to look at the table and start grabbing specific values based on their position in the list and assigning them to human-readable variable names.\n",
    "\n",
    "Quick refresher on list syntax: To access a specific item in a list, use square brackets `[]` and the index number of the item you'd like to access. For instance, to get the first cell in the row -- the date that each WARN report was issued -- use `[0]`."
   ]
  },
  {
   "cell_type": "code",
   "execution_count": 41,
   "metadata": {
    "scrolled": true
   },
   "outputs": [
    {
     "name": "stdout",
     "output_type": "stream",
     "text": [
      "<td>1/10/2020</td>\n",
      "<class 'bs4.element.Tag'>\n",
      "================================================================================\n",
      "<td>1/15/2020</td>\n",
      "<class 'bs4.element.Tag'>\n",
      "================================================================================\n",
      "<td>1/29/2020</td>\n",
      "<class 'bs4.element.Tag'>\n",
      "================================================================================\n",
      "<td>1/29/2020</td>\n",
      "<class 'bs4.element.Tag'>\n",
      "================================================================================\n",
      "<td>2/11/2020</td>\n",
      "<class 'bs4.element.Tag'>\n",
      "================================================================================\n",
      "<td>2/18/2020</td>\n",
      "<class 'bs4.element.Tag'>\n",
      "================================================================================\n",
      "<td>2/18/2020</td>\n",
      "<class 'bs4.element.Tag'>\n",
      "================================================================================\n",
      "<td>3/5/2020</td>\n",
      "<class 'bs4.element.Tag'>\n",
      "================================================================================\n",
      "<td>3/5/2020</td>\n",
      "<class 'bs4.element.Tag'>\n",
      "================================================================================\n",
      "<td>3/5/2020</td>\n",
      "<class 'bs4.element.Tag'>\n",
      "================================================================================\n",
      "<td>3/9/2020</td>\n",
      "<class 'bs4.element.Tag'>\n",
      "================================================================================\n",
      "<td>3/9/2020</td>\n",
      "<class 'bs4.element.Tag'>\n",
      "================================================================================\n",
      "<td>3/9/2020</td>\n",
      "<class 'bs4.element.Tag'>\n",
      "================================================================================\n",
      "<td>3/9/2020</td>\n",
      "<class 'bs4.element.Tag'>\n",
      "================================================================================\n",
      "<td>3/9/2020</td>\n",
      "<class 'bs4.element.Tag'>\n",
      "================================================================================\n",
      "<td>3/9/2020</td>\n",
      "<class 'bs4.element.Tag'>\n",
      "================================================================================\n",
      "<td>3/9/2020</td>\n",
      "<class 'bs4.element.Tag'>\n",
      "================================================================================\n",
      "<td>3/18/2020</td>\n",
      "<class 'bs4.element.Tag'>\n",
      "================================================================================\n",
      "<td>3/18/2020</td>\n",
      "<class 'bs4.element.Tag'>\n",
      "================================================================================\n",
      "<td>3/19/2020</td>\n",
      "<class 'bs4.element.Tag'>\n",
      "================================================================================\n",
      "<td>3/19/2020</td>\n",
      "<class 'bs4.element.Tag'>\n",
      "================================================================================\n",
      "<td>3/19/2020</td>\n",
      "<class 'bs4.element.Tag'>\n",
      "================================================================================\n",
      "<td>3/19/2020</td>\n",
      "<class 'bs4.element.Tag'>\n",
      "================================================================================\n",
      "<td>3/23/2020</td>\n",
      "<class 'bs4.element.Tag'>\n",
      "================================================================================\n",
      "<td>3/25/2020</td>\n",
      "<class 'bs4.element.Tag'>\n",
      "================================================================================\n",
      "<td>3/25/2020</td>\n",
      "<class 'bs4.element.Tag'>\n",
      "================================================================================\n",
      "<td>3/26/2020</td>\n",
      "<class 'bs4.element.Tag'>\n",
      "================================================================================\n",
      "<td>3/26/2020</td>\n",
      "<class 'bs4.element.Tag'>\n",
      "================================================================================\n",
      "<td>3/26/2020</td>\n",
      "<class 'bs4.element.Tag'>\n",
      "================================================================================\n",
      "<td>3/30/2020</td>\n",
      "<class 'bs4.element.Tag'>\n",
      "================================================================================\n",
      "<td>3/30/2020</td>\n",
      "<class 'bs4.element.Tag'>\n",
      "================================================================================\n",
      "<td>3/31/2020</td>\n",
      "<class 'bs4.element.Tag'>\n",
      "================================================================================\n",
      "<td>4/1/2020</td>\n",
      "<class 'bs4.element.Tag'>\n",
      "================================================================================\n",
      "<td>4/1/2020</td>\n",
      "<class 'bs4.element.Tag'>\n",
      "================================================================================\n",
      "<td>3/30/2020</td>\n",
      "<class 'bs4.element.Tag'>\n",
      "================================================================================\n",
      "<td>4/1/2020</td>\n",
      "<class 'bs4.element.Tag'>\n",
      "================================================================================\n",
      "<td>4/1/2020</td>\n",
      "<class 'bs4.element.Tag'>\n",
      "================================================================================\n",
      "<td>4/1/2020</td>\n",
      "<class 'bs4.element.Tag'>\n",
      "================================================================================\n",
      "<td>4/1/2020</td>\n",
      "<class 'bs4.element.Tag'>\n",
      "================================================================================\n",
      "<td>4/1/2020</td>\n",
      "<class 'bs4.element.Tag'>\n",
      "================================================================================\n",
      "<td>4/1/2020</td>\n",
      "<class 'bs4.element.Tag'>\n",
      "================================================================================\n",
      "<td>4/1/2020</td>\n",
      "<class 'bs4.element.Tag'>\n",
      "================================================================================\n",
      "<td>4/1/2020</td>\n",
      "<class 'bs4.element.Tag'>\n",
      "================================================================================\n",
      "<td>4/1/2020</td>\n",
      "<class 'bs4.element.Tag'>\n",
      "================================================================================\n",
      "<td>4/2/2020</td>\n",
      "<class 'bs4.element.Tag'>\n",
      "================================================================================\n",
      "<td>4/3/2020</td>\n",
      "<class 'bs4.element.Tag'>\n",
      "================================================================================\n",
      "<td>4/3/2020</td>\n",
      "<class 'bs4.element.Tag'>\n",
      "================================================================================\n",
      "<td>4/3/2020</td>\n",
      "<class 'bs4.element.Tag'>\n",
      "================================================================================\n",
      "<td>4/6/2020</td>\n",
      "<class 'bs4.element.Tag'>\n",
      "================================================================================\n",
      "<td>4/6/2020</td>\n",
      "<class 'bs4.element.Tag'>\n",
      "================================================================================\n",
      "<td>4/6/2020</td>\n",
      "<class 'bs4.element.Tag'>\n",
      "================================================================================\n",
      "<td>4/6/2020</td>\n",
      "<class 'bs4.element.Tag'>\n",
      "================================================================================\n",
      "<td>4/6/2020</td>\n",
      "<class 'bs4.element.Tag'>\n",
      "================================================================================\n",
      "<td>4/6/2020</td>\n",
      "<class 'bs4.element.Tag'>\n",
      "================================================================================\n",
      "<td>4/8/2020</td>\n",
      "<class 'bs4.element.Tag'>\n",
      "================================================================================\n",
      "<td>4/8/2020</td>\n",
      "<class 'bs4.element.Tag'>\n",
      "================================================================================\n",
      "<td>4/8/2020</td>\n",
      "<class 'bs4.element.Tag'>\n",
      "================================================================================\n",
      "<td>4/8/2020</td>\n",
      "<class 'bs4.element.Tag'>\n",
      "================================================================================\n",
      "<td>4/8/2020</td>\n",
      "<class 'bs4.element.Tag'>\n",
      "================================================================================\n",
      "<td>4/8/2020</td>\n",
      "<class 'bs4.element.Tag'>\n",
      "================================================================================\n",
      "<td>4/8/2020</td>\n",
      "<class 'bs4.element.Tag'>\n",
      "================================================================================\n",
      "<td>4/8/2020</td>\n",
      "<class 'bs4.element.Tag'>\n",
      "================================================================================\n",
      "<td>4/8/2020</td>\n",
      "<class 'bs4.element.Tag'>\n",
      "================================================================================\n",
      "<td>4/8/2020</td>\n",
      "<class 'bs4.element.Tag'>\n",
      "================================================================================\n",
      "<td>4/8/2020</td>\n",
      "<class 'bs4.element.Tag'>\n",
      "================================================================================\n",
      "<td>4/8/2020</td>\n",
      "<class 'bs4.element.Tag'>\n",
      "================================================================================\n",
      "<td>4/8/2020</td>\n",
      "<class 'bs4.element.Tag'>\n",
      "================================================================================\n",
      "<td>4/8/2020</td>\n",
      "<class 'bs4.element.Tag'>\n",
      "================================================================================\n",
      "<td>4/8/2020</td>\n",
      "<class 'bs4.element.Tag'>\n",
      "================================================================================\n",
      "<td>4/8/2020</td>\n",
      "<class 'bs4.element.Tag'>\n",
      "================================================================================\n",
      "<td>4/8/2020</td>\n",
      "<class 'bs4.element.Tag'>\n",
      "================================================================================\n",
      "<td>4/8/2020</td>\n",
      "<class 'bs4.element.Tag'>\n",
      "================================================================================\n",
      "<td>4/9/2020</td>\n",
      "<class 'bs4.element.Tag'>\n",
      "================================================================================\n",
      "<td>4/6/2020</td>\n",
      "<class 'bs4.element.Tag'>\n",
      "================================================================================\n",
      "<td>4/6/2020</td>\n",
      "<class 'bs4.element.Tag'>\n",
      "================================================================================\n",
      "<td>4/6/2020</td>\n",
      "<class 'bs4.element.Tag'>\n",
      "================================================================================\n",
      "<td>4/6/2020</td>\n",
      "<class 'bs4.element.Tag'>\n",
      "================================================================================\n",
      "<td>4/13/2020</td>\n",
      "<class 'bs4.element.Tag'>\n",
      "================================================================================\n"
     ]
    }
   ],
   "source": [
    "for row in rows[1:]:\n",
    "    cells = row.find_all('td')\n",
    "    warn_date = cells[0]\n",
    "    print(warn_date)\n",
    "    print(type(warn_date))\n",
    "    print('='*80)"
   ]
  },
  {
   "cell_type": "markdown",
   "metadata": {},
   "source": [
    "This is returning the entire `Tag` object -- we just want the contents inside it. You can access the `.text` attribute of the tag to get the text inside:"
   ]
  },
  {
   "cell_type": "code",
   "execution_count": 42,
   "metadata": {
    "scrolled": true
   },
   "outputs": [
    {
     "name": "stdout",
     "output_type": "stream",
     "text": [
      "1/10/2020\n",
      "1/15/2020\n",
      "1/29/2020\n",
      "1/29/2020\n",
      "2/11/2020\n",
      "2/18/2020\n",
      "2/18/2020\n",
      "3/5/2020\n",
      "3/5/2020\n",
      "3/5/2020\n",
      "3/9/2020\n",
      "3/9/2020\n",
      "3/9/2020\n",
      "3/9/2020\n",
      "3/9/2020\n",
      "3/9/2020\n",
      "3/9/2020\n",
      "3/18/2020\n",
      "3/18/2020\n",
      "3/19/2020\n",
      "3/19/2020\n",
      "3/19/2020\n",
      "3/19/2020\n",
      "3/23/2020\n",
      "3/25/2020\n",
      "3/25/2020\n",
      "3/26/2020\n",
      "3/26/2020\n",
      "3/26/2020\n",
      "3/30/2020\n",
      "3/30/2020\n",
      "3/31/2020\n",
      "4/1/2020\n",
      "4/1/2020\n",
      "3/30/2020\n",
      "4/1/2020\n",
      "4/1/2020\n",
      "4/1/2020\n",
      "4/1/2020\n",
      "4/1/2020\n",
      "4/1/2020\n",
      "4/1/2020\n",
      "4/1/2020\n",
      "4/1/2020\n",
      "4/2/2020\n",
      "4/3/2020\n",
      "4/3/2020\n",
      "4/3/2020\n",
      "4/6/2020\n",
      "4/6/2020\n",
      "4/6/2020\n",
      "4/6/2020\n",
      "4/6/2020\n",
      "4/6/2020\n",
      "4/8/2020\n",
      "4/8/2020\n",
      "4/8/2020\n",
      "4/8/2020\n",
      "4/8/2020\n",
      "4/8/2020\n",
      "4/8/2020\n",
      "4/8/2020\n",
      "4/8/2020\n",
      "4/8/2020\n",
      "4/8/2020\n",
      "4/8/2020\n",
      "4/8/2020\n",
      "4/8/2020\n",
      "4/8/2020\n",
      "4/8/2020\n",
      "4/8/2020\n",
      "4/8/2020\n",
      "4/9/2020\n",
      "4/6/2020\n",
      "4/6/2020\n",
      "4/6/2020\n",
      "4/6/2020\n",
      "4/13/2020\n"
     ]
    }
   ],
   "source": [
    "for row in rows[1:]:\n",
    "    cells = row.find_all('td')\n",
    "    warn_date = cells[0].text    \n",
    "    print(warn_date)"
   ]
  },
  {
   "cell_type": "markdown",
   "metadata": {},
   "source": [
    "In the next cell (`[1]`), the `.text` attribute will give you the NAICS code. In the third cell (`[2]`) you'll get the name of the business. Etc.\n",
    "\n",
    "It's also generally good practice to trim off external whitespace for each value, and you can use the Python built-in string method `strip()` to accomplish this as you march across the row.\n",
    "\n",
    "Which gets us this far:"
   ]
  },
  {
   "cell_type": "code",
   "execution_count": 43,
   "metadata": {},
   "outputs": [
    {
     "name": "stdout",
     "output_type": "stream",
     "text": [
      "1/10/2020 452210 Macy's\n",
      "1/15/2020 493110 IAS Logistics DFW, LLC                           d/b/a                     Pinnacle Logistics\n",
      "1/29/2020 493110 Collington Distribution Center\n",
      "1/29/2020 531311 Oakwood Worldwide (US) LP\n",
      "2/11/2020 492110 Fedex Ground Package System, Inc.\n",
      "2/18/2020 811111 Transform SR LLC-06063                  (Sears Auto Center)\n",
      "2/18/2020 452210 Transform SR LLC-01074                  (Sears Department Store)\n",
      "3/5/2020 624190 Salvation Army Adult Rehabilitation Centers\n",
      "3/5/2020 624190 Salvation Army Adult Rehabilitation Centers\n",
      "3/5/2020 624190 Salvation Army Adult Rehabilitation Centers\n",
      "3/9/2020 442110 Wolf Furniture\n",
      "3/9/2020 442110 Wolf Furniture\n",
      "3/9/2020 442110 Wolf Furniture\n",
      "3/9/2020 442110 Wolf Furniture\n",
      "3/9/2020 442110 Wolf Furniture\n",
      "3/9/2020 442110 Wolf Furniture\n",
      "3/9/2020 442110 Wolf Furniture\n",
      "3/18/2020 611620 Silver Spring Gymnastics & Fitness\n",
      "3/18/2020 812930 SP Plus Corporation\n",
      "3/19/2020 722515 Artifact Coffee\n",
      "3/19/2020 722511 Foodshed, LLC\n",
      "3/19/2020 722511 Woodberry Kitchen\n",
      "3/19/2020 721110 Hotel at UMCP\n",
      "3/23/2020 713290 Delta Bingo & Gaming\n",
      "3/25/2020 812331 ALSCO\n",
      "3/25/2020 721110 Sheraton Columbia Hotel\n",
      "3/26/2020 236118 Case Design/Remodeling\n",
      "3/26/2020 236118 Case Design/Remodeling\n",
      "3/26/2020 488119 Prosegur Services Group at BWI\n",
      "3/30/2020 561210 Maximus Federal Services\n",
      "3/30/2020 611430 Automotive Training Institute\n",
      "3/31/2020 532412 Ahern Rentals, Inc.\n",
      "4/1/2020 512131 Cinemark Egyptian 24\n",
      "4/1/2020 512131 Cinemark Egyptian 24\n",
      "3/30/2020 721110 Collegiate Hotel Group\n",
      "4/1/2020 721110 Schulte Companies d/b/a Embassy Suites Inner Harbor Hotel\n",
      "4/1/2020 721110 Schulte Companies d/b/a Courtyard by Marriott\n",
      "4/1/2020 721110 Schulte Companies d/b/a Residence Inn by Marriott\n",
      "4/1/2020 721110 Schulte Companies d/b/a Hampton Inn & Suites\n",
      "4/1/2020 611699 CorePower Yoga, LLC\n",
      "4/1/2020 611699 CorePower Yoga, LLC\n",
      "4/1/2020 611699 CorePower Yoga, LLC\n",
      "4/1/2020 611699 CorePower Yoga, LLC\n",
      "4/1/2020 611699 CorePower Yoga, LLC\n",
      "4/2/2020 721110 Four Seasons Hotel Baltimore\n",
      "4/3/2020 722511 Benihana\n",
      "4/3/2020 493110 Under Armour\n",
      "4/3/2020 722511 Bond 45\n",
      "4/6/2020 531110 Meta Coastal, LLC\n",
      "4/6/2020 531110 Meta Coastal, LLC\n",
      "4/6/2020 561720 Meta Coastal, LLC\n",
      "4/6/2020 531311 Meta Coastal, LLC\n",
      "4/6/2020 721110 Meta Coastal, LLC\n",
      "4/6/2020 541219 Meta Coastal, LLC\n",
      "4/8/2020 448120 RTW Retailwinds                                                            d/b/a Fashion to Figure\n",
      "4/8/2020 448120 RTW Retailwinds                                                            d/b/a Fashion to Figure\n",
      "4/8/2020 448120 RTW Retailwinds                                                            d/b/a Fashion to Figure\n",
      "4/8/2020 448120 RTW Retailwinds                                                            d/b/a New York  & Company\n",
      "4/8/2020 448120 RTW Retailwinds                                                            d/b/a New York  & Company\n",
      "4/8/2020 448120 RTW Retailwinds                                                            d/b/a New York  & Company\n",
      "4/8/2020 448120 RTW Retailwinds                                                            d/b/a New York  & Company\n",
      "4/8/2020 448120 RTW Retailwinds                                                            d/b/a New York  & Company\n",
      "4/8/2020 448120 RTW Retailwinds                                                            d/b/a New York  & Company\n",
      "4/8/2020 448120 RTW Retailwinds                                                            d/b/a New York  & Company\n",
      "4/8/2020 448120 RTW Retailwinds                                                            d/b/a New York  & Company\n",
      "4/8/2020 448120 RTW Retailwinds                                                            d/b/a New York  & Company\n",
      "4/8/2020 448120 RTW Retailwinds                                                            d/b/a New York  & Company\n",
      "4/8/2020 448120 RTW Retailwinds                                                            d/b/a New York  & Company\n",
      "4/8/2020 448120 RTW Retailwinds                                                            d/b/a New York  & Company\n",
      "4/8/2020 448120 RTW Retailwinds                                                            d/b/a New York  & Company\n",
      "4/8/2020 448120 RTW Retailwinds                                                            d/b/a New York  & Company\n",
      "4/8/2020 448120 RTW Retailwinds                                                            d/b/a New York  & Company\n",
      "4/9/2020 711110 Medieval Times\n",
      "4/6/2020 448310 The Silver Heron\n",
      "4/6/2020 448310 Pandora\n",
      "4/6/2020 448310 Pandora\n",
      "4/6/2020 448310 Pandora\n",
      "4/13/2020 713910 The Bethesda Country Club\n"
     ]
    }
   ],
   "source": [
    "for row in rows[1:]:\n",
    "    cells = row.find_all('td')\n",
    "    warn_date = cells[0].text.strip()\n",
    "    naics_code = cells[1].text.strip()\n",
    "    biz = cells[2].text.strip()\n",
    "    print(warn_date, naics_code, biz)"
   ]
  },
  {
   "cell_type": "markdown",
   "metadata": {},
   "source": [
    "### ✍️ Try it yourself\n",
    "\n",
    "Now that you've gotten this far, see if you can isolate the other pieces of data in each row."
   ]
  },
  {
   "cell_type": "code",
   "execution_count": 59,
   "metadata": {},
   "outputs": [],
   "source": [
    "results = []\n",
    "for row in rows[1:]:\n",
    "    cells = row.find_all('td')\n",
    "    warn_date = cells[0].text.strip()\n",
    "    naics_code = cells[1].text.strip()\n",
    "    biz = cells[2].text.strip()\n",
    "    \n",
    "    # address\n",
    "    address = cells[3].text.strip()\n",
    "    # wia_code\n",
    "    wia_code = cells[4].text.strip()\n",
    "    # total_employees\n",
    "    total_employees = cells[5].text.strip()\n",
    "    # effective_date\n",
    "    effective_date = cells[6].text.strip()\n",
    "    # type_code\n",
    "    type_code = cells[7].text.strip()\n",
    "    # print()\n",
    "    obj = {'warn_date': warn_date,\n",
    "           'naics_code': naics_code,\n",
    "           'biz': biz,\n",
    "           'address': address,\n",
    "           'wia_code': wia_code,\n",
    "           'total_employees': total_employees,\n",
    "           'effective_date': effective_date,\n",
    "           'type_code': type_code\n",
    "          }\n",
    "    results.append(obj)"
   ]
  },
  {
   "cell_type": "code",
   "execution_count": 52,
   "metadata": {},
   "outputs": [],
   "source": [
    "import pandas as pd"
   ]
  },
  {
   "cell_type": "code",
   "execution_count": 87,
   "metadata": {},
   "outputs": [
    {
     "data": {
      "text/html": [
       "<div>\n",
       "<style scoped>\n",
       "    .dataframe tbody tr th:only-of-type {\n",
       "        vertical-align: middle;\n",
       "    }\n",
       "\n",
       "    .dataframe tbody tr th {\n",
       "        vertical-align: top;\n",
       "    }\n",
       "\n",
       "    .dataframe thead th {\n",
       "        text-align: right;\n",
       "    }\n",
       "</style>\n",
       "<table border=\"1\" class=\"dataframe\">\n",
       "  <thead>\n",
       "    <tr style=\"text-align: right;\">\n",
       "      <th></th>\n",
       "      <th>warn_date</th>\n",
       "      <th>naics_code</th>\n",
       "      <th>biz</th>\n",
       "      <th>address</th>\n",
       "      <th>wia_code</th>\n",
       "      <th>total_employees</th>\n",
       "      <th>effective_date</th>\n",
       "      <th>type_code</th>\n",
       "    </tr>\n",
       "  </thead>\n",
       "  <tbody>\n",
       "    <tr>\n",
       "      <th>0</th>\n",
       "      <td>1/10/2020</td>\n",
       "      <td>452210</td>\n",
       "      <td>Macy's</td>\n",
       "      <td>2304 N. Salisbury Blvd Salisbury, MD 21801</td>\n",
       "      <td>5</td>\n",
       "      <td>80</td>\n",
       "      <td>3/30/2020</td>\n",
       "      <td>1</td>\n",
       "    </tr>\n",
       "    <tr>\n",
       "      <th>1</th>\n",
       "      <td>1/15/2020</td>\n",
       "      <td>493110</td>\n",
       "      <td>IAS Logistics DFW, LLC                        ...</td>\n",
       "      <td>BWI Airport                 7050 Friendship Ro...</td>\n",
       "      <td>1</td>\n",
       "      <td>1,609</td>\n",
       "      <td>4/14/2020</td>\n",
       "      <td>2</td>\n",
       "    </tr>\n",
       "    <tr>\n",
       "      <th>2</th>\n",
       "      <td>1/29/2020</td>\n",
       "      <td>493110</td>\n",
       "      <td>Collington Distribution Center</td>\n",
       "      <td>16020 Leeland Road Upper Marlboro, MD 20774</td>\n",
       "      <td>8</td>\n",
       "      <td>520</td>\n",
       "      <td>8/1/2020</td>\n",
       "      <td>1</td>\n",
       "    </tr>\n",
       "    <tr>\n",
       "      <th>3</th>\n",
       "      <td>1/29/2020</td>\n",
       "      <td>531311</td>\n",
       "      <td>Oakwood Worldwide (US) LP</td>\n",
       "      <td>888 Airport Park Road Suite A                 ...</td>\n",
       "      <td>1</td>\n",
       "      <td>2</td>\n",
       "      <td>3/30/2020</td>\n",
       "      <td>2</td>\n",
       "    </tr>\n",
       "    <tr>\n",
       "      <th>4</th>\n",
       "      <td>2/11/2020</td>\n",
       "      <td>492110</td>\n",
       "      <td>Fedex Ground Package System, Inc.</td>\n",
       "      <td>4801 Hollins Ferry Road  Halethorpe, MD 21227</td>\n",
       "      <td>2</td>\n",
       "      <td>130</td>\n",
       "      <td>4/18/2020</td>\n",
       "      <td>1</td>\n",
       "    </tr>\n",
       "    <tr>\n",
       "      <th>...</th>\n",
       "      <td>...</td>\n",
       "      <td>...</td>\n",
       "      <td>...</td>\n",
       "      <td>...</td>\n",
       "      <td>...</td>\n",
       "      <td>...</td>\n",
       "      <td>...</td>\n",
       "      <td>...</td>\n",
       "    </tr>\n",
       "    <tr>\n",
       "      <th>73</th>\n",
       "      <td>4/6/2020</td>\n",
       "      <td>448310</td>\n",
       "      <td>The Silver Heron</td>\n",
       "      <td>The Mall at Columbia         10300 Little Patu...</td>\n",
       "      <td>6</td>\n",
       "      <td>4</td>\n",
       "      <td>4/4/2020</td>\n",
       "      <td>2</td>\n",
       "    </tr>\n",
       "    <tr>\n",
       "      <th>74</th>\n",
       "      <td>4/6/2020</td>\n",
       "      <td>448310</td>\n",
       "      <td>Pandora</td>\n",
       "      <td>St. Charles Towne Center            11110 Mall...</td>\n",
       "      <td>9</td>\n",
       "      <td>10</td>\n",
       "      <td>4/4/2020</td>\n",
       "      <td>2</td>\n",
       "    </tr>\n",
       "    <tr>\n",
       "      <th>75</th>\n",
       "      <td>4/6/2020</td>\n",
       "      <td>448310</td>\n",
       "      <td>Pandora</td>\n",
       "      <td>The Mall at Columbia         10300 Little Patu...</td>\n",
       "      <td>6</td>\n",
       "      <td>17</td>\n",
       "      <td>4/4/2020</td>\n",
       "      <td>2</td>\n",
       "    </tr>\n",
       "    <tr>\n",
       "      <th>76</th>\n",
       "      <td>4/6/2020</td>\n",
       "      <td>448310</td>\n",
       "      <td>Pandora</td>\n",
       "      <td>The Gallery at Harborplace                300 ...</td>\n",
       "      <td>3</td>\n",
       "      <td>7</td>\n",
       "      <td>4/4/2020</td>\n",
       "      <td>2</td>\n",
       "    </tr>\n",
       "    <tr>\n",
       "      <th>77</th>\n",
       "      <td>4/13/2020</td>\n",
       "      <td>713910</td>\n",
       "      <td>The Bethesda Country Club</td>\n",
       "      <td>7601 Bradley Boulevard              Bethesda, ...</td>\n",
       "      <td>7</td>\n",
       "      <td>128</td>\n",
       "      <td>3/26/2020</td>\n",
       "      <td>2</td>\n",
       "    </tr>\n",
       "  </tbody>\n",
       "</table>\n",
       "<p>78 rows × 8 columns</p>\n",
       "</div>"
      ],
      "text/plain": [
       "    warn_date naics_code                                                biz  \\\n",
       "0   1/10/2020     452210                                             Macy's   \n",
       "1   1/15/2020     493110  IAS Logistics DFW, LLC                        ...   \n",
       "2   1/29/2020     493110                     Collington Distribution Center   \n",
       "3   1/29/2020     531311                          Oakwood Worldwide (US) LP   \n",
       "4   2/11/2020     492110                  Fedex Ground Package System, Inc.   \n",
       "..        ...        ...                                                ...   \n",
       "73   4/6/2020     448310                                   The Silver Heron   \n",
       "74   4/6/2020     448310                                            Pandora   \n",
       "75   4/6/2020     448310                                            Pandora   \n",
       "76   4/6/2020     448310                                            Pandora   \n",
       "77  4/13/2020     713910                          The Bethesda Country Club   \n",
       "\n",
       "                                              address wia_code  \\\n",
       "0          2304 N. Salisbury Blvd Salisbury, MD 21801        5   \n",
       "1   BWI Airport                 7050 Friendship Ro...        1   \n",
       "2         16020 Leeland Road Upper Marlboro, MD 20774        8   \n",
       "3   888 Airport Park Road Suite A                 ...        1   \n",
       "4       4801 Hollins Ferry Road  Halethorpe, MD 21227        2   \n",
       "..                                                ...      ...   \n",
       "73  The Mall at Columbia         10300 Little Patu...        6   \n",
       "74  St. Charles Towne Center            11110 Mall...        9   \n",
       "75  The Mall at Columbia         10300 Little Patu...        6   \n",
       "76  The Gallery at Harborplace                300 ...        3   \n",
       "77  7601 Bradley Boulevard              Bethesda, ...        7   \n",
       "\n",
       "   total_employees effective_date type_code  \n",
       "0               80      3/30/2020         1  \n",
       "1            1,609      4/14/2020         2  \n",
       "2              520       8/1/2020         1  \n",
       "3                2      3/30/2020         2  \n",
       "4              130      4/18/2020         1  \n",
       "..             ...            ...       ...  \n",
       "73               4       4/4/2020         2  \n",
       "74              10       4/4/2020         2  \n",
       "75              17       4/4/2020         2  \n",
       "76               7       4/4/2020         2  \n",
       "77             128      3/26/2020         2  \n",
       "\n",
       "[78 rows x 8 columns]"
      ]
     },
     "execution_count": 87,
     "metadata": {},
     "output_type": "execute_result"
    }
   ],
   "source": [
    "df = pd.DataFrame(results)\n",
    "df"
   ]
  },
  {
   "cell_type": "code",
   "execution_count": 88,
   "metadata": {},
   "outputs": [
    {
     "name": "stdout",
     "output_type": "stream",
     "text": [
      "<class 'pandas.core.frame.DataFrame'>\n",
      "RangeIndex: 78 entries, 0 to 77\n",
      "Data columns (total 8 columns):\n",
      " #   Column           Non-Null Count  Dtype \n",
      "---  ------           --------------  ----- \n",
      " 0   warn_date        78 non-null     object\n",
      " 1   naics_code       78 non-null     object\n",
      " 2   biz              78 non-null     object\n",
      " 3   address          78 non-null     object\n",
      " 4   wia_code         78 non-null     object\n",
      " 5   total_employees  78 non-null     int64 \n",
      " 6   effective_date   78 non-null     object\n",
      " 7   type_code        78 non-null     object\n",
      "dtypes: int64(1), object(7)\n",
      "memory usage: 5.0+ KB\n"
     ]
    }
   ],
   "source": [
    "df['total_employees'] = pd.to_numeric(df['total_employees'].str.replace(',', ''))\n",
    "df.info()"
   ]
  },
  {
   "cell_type": "code",
   "execution_count": 90,
   "metadata": {},
   "outputs": [
    {
     "data": {
      "text/html": [
       "<div>\n",
       "<style scoped>\n",
       "    .dataframe tbody tr th:only-of-type {\n",
       "        vertical-align: middle;\n",
       "    }\n",
       "\n",
       "    .dataframe tbody tr th {\n",
       "        vertical-align: top;\n",
       "    }\n",
       "\n",
       "    .dataframe thead th {\n",
       "        text-align: right;\n",
       "    }\n",
       "</style>\n",
       "<table border=\"1\" class=\"dataframe\">\n",
       "  <thead>\n",
       "    <tr style=\"text-align: right;\">\n",
       "      <th></th>\n",
       "      <th>warn_date</th>\n",
       "      <th>naics_code</th>\n",
       "      <th>biz</th>\n",
       "      <th>address</th>\n",
       "      <th>wia_code</th>\n",
       "      <th>total_employees</th>\n",
       "      <th>effective_date</th>\n",
       "      <th>type_code</th>\n",
       "    </tr>\n",
       "  </thead>\n",
       "  <tbody>\n",
       "    <tr>\n",
       "      <th>1</th>\n",
       "      <td>1/15/2020</td>\n",
       "      <td>493110</td>\n",
       "      <td>IAS Logistics DFW, LLC                        ...</td>\n",
       "      <td>BWI Airport                 7050 Friendship Ro...</td>\n",
       "      <td>1</td>\n",
       "      <td>1609</td>\n",
       "      <td>4/14/2020</td>\n",
       "      <td>2</td>\n",
       "    </tr>\n",
       "    <tr>\n",
       "      <th>2</th>\n",
       "      <td>1/29/2020</td>\n",
       "      <td>493110</td>\n",
       "      <td>Collington Distribution Center</td>\n",
       "      <td>16020 Leeland Road Upper Marlboro, MD 20774</td>\n",
       "      <td>8</td>\n",
       "      <td>520</td>\n",
       "      <td>8/1/2020</td>\n",
       "      <td>1</td>\n",
       "    </tr>\n",
       "    <tr>\n",
       "      <th>44</th>\n",
       "      <td>4/2/2020</td>\n",
       "      <td>721110</td>\n",
       "      <td>Four Seasons Hotel Baltimore</td>\n",
       "      <td>200 International Drive Baltimore, MD 21202</td>\n",
       "      <td>3</td>\n",
       "      <td>169</td>\n",
       "      <td>3/23/2020</td>\n",
       "      <td>2</td>\n",
       "    </tr>\n",
       "    <tr>\n",
       "      <th>46</th>\n",
       "      <td>4/3/2020</td>\n",
       "      <td>493110</td>\n",
       "      <td>Under Armour</td>\n",
       "      <td>7030 Tradepoint Avenue           Edgemere, Md ...</td>\n",
       "      <td>2</td>\n",
       "      <td>154</td>\n",
       "      <td>4/12/2020</td>\n",
       "      <td>1</td>\n",
       "    </tr>\n",
       "    <tr>\n",
       "      <th>22</th>\n",
       "      <td>3/19/2020</td>\n",
       "      <td>721110</td>\n",
       "      <td>Hotel at UMCP</td>\n",
       "      <td>7777 Baltimore Avenue                 College ...</td>\n",
       "      <td>8</td>\n",
       "      <td>150</td>\n",
       "      <td>3/19/2020</td>\n",
       "      <td>2</td>\n",
       "    </tr>\n",
       "    <tr>\n",
       "      <th>...</th>\n",
       "      <td>...</td>\n",
       "      <td>...</td>\n",
       "      <td>...</td>\n",
       "      <td>...</td>\n",
       "      <td>...</td>\n",
       "      <td>...</td>\n",
       "      <td>...</td>\n",
       "      <td>...</td>\n",
       "    </tr>\n",
       "    <tr>\n",
       "      <th>20</th>\n",
       "      <td>3/19/2020</td>\n",
       "      <td>722511</td>\n",
       "      <td>Foodshed, LLC</td>\n",
       "      <td>2031 Clipper Park Road                        ...</td>\n",
       "      <td>3</td>\n",
       "      <td>4</td>\n",
       "      <td>3/16/2020</td>\n",
       "      <td>2</td>\n",
       "    </tr>\n",
       "    <tr>\n",
       "      <th>3</th>\n",
       "      <td>1/29/2020</td>\n",
       "      <td>531311</td>\n",
       "      <td>Oakwood Worldwide (US) LP</td>\n",
       "      <td>888 Airport Park Road Suite A                 ...</td>\n",
       "      <td>1</td>\n",
       "      <td>2</td>\n",
       "      <td>3/30/2020</td>\n",
       "      <td>2</td>\n",
       "    </tr>\n",
       "    <tr>\n",
       "      <th>50</th>\n",
       "      <td>4/6/2020</td>\n",
       "      <td>561720</td>\n",
       "      <td>Meta Coastal, LLC</td>\n",
       "      <td>350 N. Washington Street                      ...</td>\n",
       "      <td>11</td>\n",
       "      <td>2</td>\n",
       "      <td>3/20/2020</td>\n",
       "      <td>2</td>\n",
       "    </tr>\n",
       "    <tr>\n",
       "      <th>56</th>\n",
       "      <td>4/8/2020</td>\n",
       "      <td>448120</td>\n",
       "      <td>RTW Retailwinds                               ...</td>\n",
       "      <td>3317 Rosary Court                    Abingdon,...</td>\n",
       "      <td>10</td>\n",
       "      <td>1</td>\n",
       "      <td>3/29/2020</td>\n",
       "      <td>2</td>\n",
       "    </tr>\n",
       "    <tr>\n",
       "      <th>31</th>\n",
       "      <td>3/31/2020</td>\n",
       "      <td>532412</td>\n",
       "      <td>Ahern Rentals, Inc.</td>\n",
       "      <td>7910 Penn Randall Place            Upper Marlb...</td>\n",
       "      <td>8</td>\n",
       "      <td>1</td>\n",
       "      <td>3/30/2020</td>\n",
       "      <td>2</td>\n",
       "    </tr>\n",
       "  </tbody>\n",
       "</table>\n",
       "<p>78 rows × 8 columns</p>\n",
       "</div>"
      ],
      "text/plain": [
       "    warn_date naics_code                                                biz  \\\n",
       "1   1/15/2020     493110  IAS Logistics DFW, LLC                        ...   \n",
       "2   1/29/2020     493110                     Collington Distribution Center   \n",
       "44   4/2/2020     721110                       Four Seasons Hotel Baltimore   \n",
       "46   4/3/2020     493110                                       Under Armour   \n",
       "22  3/19/2020     721110                                      Hotel at UMCP   \n",
       "..        ...        ...                                                ...   \n",
       "20  3/19/2020     722511                                      Foodshed, LLC   \n",
       "3   1/29/2020     531311                          Oakwood Worldwide (US) LP   \n",
       "50   4/6/2020     561720                                  Meta Coastal, LLC   \n",
       "56   4/8/2020     448120  RTW Retailwinds                               ...   \n",
       "31  3/31/2020     532412                                Ahern Rentals, Inc.   \n",
       "\n",
       "                                              address wia_code  \\\n",
       "1   BWI Airport                 7050 Friendship Ro...        1   \n",
       "2         16020 Leeland Road Upper Marlboro, MD 20774        8   \n",
       "44        200 International Drive Baltimore, MD 21202        3   \n",
       "46  7030 Tradepoint Avenue           Edgemere, Md ...        2   \n",
       "22  7777 Baltimore Avenue                 College ...        8   \n",
       "..                                                ...      ...   \n",
       "20  2031 Clipper Park Road                        ...        3   \n",
       "3   888 Airport Park Road Suite A                 ...        1   \n",
       "50  350 N. Washington Street                      ...       11   \n",
       "56  3317 Rosary Court                    Abingdon,...       10   \n",
       "31  7910 Penn Randall Place            Upper Marlb...        8   \n",
       "\n",
       "    total_employees effective_date type_code  \n",
       "1              1609      4/14/2020         2  \n",
       "2               520       8/1/2020         1  \n",
       "44              169      3/23/2020         2  \n",
       "46              154      4/12/2020         1  \n",
       "22              150      3/19/2020         2  \n",
       "..              ...            ...       ...  \n",
       "20                4      3/16/2020         2  \n",
       "3                 2      3/30/2020         2  \n",
       "50                2      3/20/2020         2  \n",
       "56                1      3/29/2020         2  \n",
       "31                1      3/30/2020         2  \n",
       "\n",
       "[78 rows x 8 columns]"
      ]
     },
     "execution_count": 90,
     "metadata": {},
     "output_type": "execute_result"
    }
   ],
   "source": [
    "df.sort_values('total_employees', ascending=False)"
   ]
  },
  {
   "cell_type": "code",
   "execution_count": 57,
   "metadata": {},
   "outputs": [],
   "source": [
    "df.to_csv(\"output.csv\", index=False)"
   ]
  },
  {
   "cell_type": "markdown",
   "metadata": {},
   "source": [
    "### Write the results to file\n",
    "\n",
    "Now that we've targeted our lists of data for each row, we can use Python's built-in [`csv`](https://docs.python.org/3/library/csv.html) module to write each list to a CSV file.\n",
    "\n",
    "First, import the csv module."
   ]
  },
  {
   "cell_type": "code",
   "execution_count": null,
   "metadata": {},
   "outputs": [],
   "source": [
    "import csv"
   ]
  },
  {
   "cell_type": "markdown",
   "metadata": {},
   "source": [
    "Now define a list of headers to match the data (each column header will be a string) -- run this cell:"
   ]
  },
  {
   "cell_type": "code",
   "execution_count": null,
   "metadata": {},
   "outputs": [],
   "source": [
    "HEADERS = ['warn_date', 'naics_code', 'biz', 'address', 'wia_code',\n",
    "           'total_employees', 'effective_date', 'type_code']"
   ]
  },
  {
   "cell_type": "markdown",
   "metadata": {},
   "source": [
    "Now, using something called a `with` block, open a new CSV file to write to and write some code to do the following things:\n",
    "- Create a `csv.writer` object\n",
    "- Write out the list of headers using the `writerow()` method of the `csv.writer` object\n",
    "- Drop in the `for` loop you just wrote and, instead of just printing the contents of each cell, create a list of items and use the `writerow()` method of the `csv.writer` object to write your list of data to file"
   ]
  },
  {
   "cell_type": "code",
   "execution_count": null,
   "metadata": {},
   "outputs": [],
   "source": [
    "# create a file called 'warn-data.csv' in write ('w') mode\n",
    "# specify that newlines are terminated by an empty string (this deals with a PC-specific problem)\n",
    "# and use the `as` keyword to name the open file handler (the variable name `outfile` is arbitrary)\n",
    "with open('warn-data.csv', 'w', newline='') as outfile:\n",
    "    # go to the csv module we imported and make a new .writer object attached to the open file\n",
    "    # and save it to a variable\n",
    "    writer = csv.writer(outfile)\n",
    "\n",
    "    # write out the list of headers\n",
    "    writer.writerow(headers)\n",
    "    \n",
    "    # paste in the for loop you wrote earlier here -- watch the indentation!\n",
    "    # it should be at this indentation level =>\n",
    "    # for row in rows[1:]:\n",
    "    #     cells = row.find_all('td')\n",
    "    #     etc. ...\n",
    "    # but at the end, instead of `print(warn_date, naics_code, ...etc.)`\n",
    "    # make it something like\n",
    "    # data_out = [warn_date, naics_code, ...etc.]\n",
    "    # `writer.writerow(data_out)`"
   ]
  },
  {
   "cell_type": "markdown",
   "metadata": {},
   "source": [
    "If you look in the folder, you should see a new file: `warn-data.csv`. Hooray!\n",
    "\n",
    "🎉 🎉 🎉"
   ]
  },
  {
   "cell_type": "markdown",
   "metadata": {},
   "source": [
    "### ✍️ Try it yourself\n",
    "\n",
    "Putting it all together:\n",
    "- Find a website you'd like to scrape\n",
    "- Use `requests` to fetch the HTML\n",
    "- Use `bs4` to parse the HTML and isolate the data you're interested in\n",
    "- Use `csv` to write the data to file"
   ]
  },
  {
   "cell_type": "markdown",
   "metadata": {},
   "source": [
    "### Extra credit problems\n",
    "\n",
    "1. **Remove internal whitespace:** Looking over the data, you probably noticed that some of the values have some unnecessary internal whitespace, which you could fix before you wrote each row to file. Python does not have a built-in string method to remove internal whitespace, unfortunately, but [Googling around](https://www.google.com/search?q=python+remove+internal+whitespace) will yield you a common strategy: Using the `split()` method to separate individual words in the string, then `join()`ing the resulting list on a single space. As an example:\n",
    "\n",
    "```python\n",
    "my_text = 'hello     world      how are      you?'\n",
    "\n",
    "# split() will turn this into a list of words\n",
    "my_text_words = my_text.split()\n",
    "# ['hello', 'world', 'how', 'are', 'you?']\n",
    "\n",
    "# join on a single space\n",
    "my_text_clean = ' '.join(my_text_words)\n",
    "print(my_text_clean)\n",
    "# prints 'hello world how are you?'\n",
    "\n",
    "# or, as a one-liner\n",
    "my_text_clean = ' '.join(my_text.split())\n",
    "```\n",
    "\n",
    "2. **Fetch multiple years:** The table we scraped has WARN notices for the current year, but the agency also maintains pages with WARN notices for previous years -- there's a list of them in a section [toward the bottom of the page](https://www.dllr.state.md.us/employment/warn.shtml). See if you can figure out how to loop over multiple pages and scrape the contents of each into a single CSV.\n",
    "\n",
    "\n",
    "3. **Build a lookup table:** Each numeric code in the \"WIA Code\" column correspondes to a local area. See if you can figure out how to create a lookup dictionary that maps the numbers to their locations, then as you're looping over the data table, replace the numeric value in that column with the name of the local area instead. Here's a hint:\n",
    "\n",
    "```python\n",
    "    lookup_dict = {\n",
    "        '1': 'hello',\n",
    "        '2': 'world'\n",
    "    }\n",
    "\n",
    "    print(lookup_dict.get('1'))\n",
    "    # prints 'hello'\n",
    "\n",
    "    print(lookup_dict.get('3'))\n",
    "    # prints None\n",
    "\n",
    "```\n",
    "\n",
    "\n",
    "4. **Fix encoding errors:** You might have noticed a few encoding problems -- e.g., `Nestlé` is being renedered as `NestlÃ©`. This is due to an encoding problem -- the `warn_page.text` is not encoded as `utf-8`. Using `decode()` and `encode()`, see if you can fix this. (Hint! It looks like the state of Maryland is a big fan of `latin-1`.)"
   ]
  },
  {
   "cell_type": "code",
   "execution_count": null,
   "metadata": {},
   "outputs": [],
   "source": []
  }
 ],
 "metadata": {
  "kernelspec": {
   "display_name": "Python 3",
   "language": "python",
   "name": "python3"
  },
  "language_info": {
   "codemirror_mode": {
    "name": "ipython",
    "version": 3
   },
   "file_extension": ".py",
   "mimetype": "text/x-python",
   "name": "python",
   "nbconvert_exporter": "python",
   "pygments_lexer": "ipython3",
   "version": "3.8.2"
  }
 },
 "nbformat": 4,
 "nbformat_minor": 4
}
